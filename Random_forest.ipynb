{
 "cells": [
  {
   "cell_type": "markdown",
   "metadata": {},
   "source": [
    "# Group 2 Capstone Project"
   ]
  },
  {
   "cell_type": "markdown",
   "metadata": {},
   "source": [
    "#### Import nessecary files"
   ]
  },
  {
   "cell_type": "code",
   "execution_count": 55,
   "metadata": {},
   "outputs": [
    {
     "name": "stdout",
     "output_type": "stream",
     "text": [
      "Collecting imblearn\n",
      "  Using cached imblearn-0.0-py2.py3-none-any.whl (1.9 kB)\n",
      "Requirement already satisfied: imbalanced-learn in c:\\users\\scallejo\\appdata\\local\\anaconda3\\lib\\site-packages (from imblearn) (0.10.1)\n",
      "Requirement already satisfied: numpy>=1.17.3 in c:\\users\\scallejo\\appdata\\local\\anaconda3\\lib\\site-packages (from imbalanced-learn->imblearn) (1.24.3)\n",
      "Requirement already satisfied: scipy>=1.3.2 in c:\\users\\scallejo\\appdata\\local\\anaconda3\\lib\\site-packages (from imbalanced-learn->imblearn) (1.11.3)\n",
      "Requirement already satisfied: scikit-learn>=1.0.2 in c:\\users\\scallejo\\appdata\\local\\anaconda3\\lib\\site-packages (from imbalanced-learn->imblearn) (1.2.2)\n",
      "Requirement already satisfied: joblib>=1.1.1 in c:\\users\\scallejo\\appdata\\local\\anaconda3\\lib\\site-packages (from imbalanced-learn->imblearn) (1.2.0)\n",
      "Requirement already satisfied: threadpoolctl>=2.0.0 in c:\\users\\scallejo\\appdata\\local\\anaconda3\\lib\\site-packages (from imbalanced-learn->imblearn) (2.2.0)\n",
      "Installing collected packages: imblearn\n",
      "Successfully installed imblearn-0.0\n"
     ]
    }
   ],
   "source": [
    "#! pip uninstall scikit-learn --yes\n",
    "#! pip uninstall imblearn --yes\n",
    "#! pip install scikit-learn==1.2.2\n",
    "#! pip install imblearn"
   ]
  },
  {
   "cell_type": "code",
   "execution_count": 1,
   "metadata": {},
   "outputs": [],
   "source": [
    "#imports\n",
    "import pandas as pd\n",
    "import matplotlib.pyplot as plt\n",
    "from sklearn.preprocessing import LabelEncoder\n",
    "from sklearn.linear_model import LogisticRegression\n",
    "from collections import Counter\n",
    "import imblearn"
   ]
  },
  {
   "cell_type": "markdown",
   "metadata": {},
   "source": [
    "#### Read in dataset\n",
    "\n",
    "https://www.kaggle.com/datasets/willianoliveiragibin/websites-e-comerce\n",
    "\n",
    "E-commerce data set with columns: 'accessed_date', 'duration_(secs)', 'network_protocol', 'ip', 'bytes', 'accessed_Ffom', 'age', 'gender', 'country', 'membership', 'language','sales', 'returned_amount', 'pay_method' with target variable being 'returned'"
   ]
  },
  {
   "cell_type": "code",
   "execution_count": 2,
   "metadata": {},
   "outputs": [
    {
     "name": "stderr",
     "output_type": "stream",
     "text": [
      "C:\\Users\\scallejo\\AppData\\Local\\Temp\\ipykernel_21964\\4241691710.py:2: DtypeWarning: Columns (6) have mixed types. Specify dtype option on import or set low_memory=False.\n",
      "  df = pd.read_csv(\"E-commerce Website Logs new.csv\")\n"
     ]
    },
    {
     "data": {
      "text/html": [
       "<div>\n",
       "<style scoped>\n",
       "    .dataframe tbody tr th:only-of-type {\n",
       "        vertical-align: middle;\n",
       "    }\n",
       "\n",
       "    .dataframe tbody tr th {\n",
       "        vertical-align: top;\n",
       "    }\n",
       "\n",
       "    .dataframe thead th {\n",
       "        text-align: right;\n",
       "    }\n",
       "</style>\n",
       "<table border=\"1\" class=\"dataframe\">\n",
       "  <thead>\n",
       "    <tr style=\"text-align: right;\">\n",
       "      <th></th>\n",
       "      <th>accessed_date</th>\n",
       "      <th>duration_(secs)</th>\n",
       "      <th>network_protocol</th>\n",
       "      <th>ip</th>\n",
       "      <th>bytes</th>\n",
       "      <th>accessed_Ffom</th>\n",
       "      <th>age</th>\n",
       "      <th>gender</th>\n",
       "      <th>country</th>\n",
       "      <th>membership</th>\n",
       "      <th>language</th>\n",
       "      <th>sales</th>\n",
       "      <th>returned</th>\n",
       "      <th>returned_amount</th>\n",
       "      <th>pay_method</th>\n",
       "    </tr>\n",
       "  </thead>\n",
       "  <tbody>\n",
       "    <tr>\n",
       "      <th>0</th>\n",
       "      <td>2017-03-14 17:43:57.172</td>\n",
       "      <td>2533</td>\n",
       "      <td>TCP</td>\n",
       "      <td>1.10.195.126</td>\n",
       "      <td>20100</td>\n",
       "      <td>Chrome</td>\n",
       "      <td>28</td>\n",
       "      <td>Female</td>\n",
       "      <td>CA</td>\n",
       "      <td>Normal</td>\n",
       "      <td>English</td>\n",
       "      <td>261.96</td>\n",
       "      <td>No</td>\n",
       "      <td>0</td>\n",
       "      <td>Credit Card</td>\n",
       "    </tr>\n",
       "    <tr>\n",
       "      <th>1</th>\n",
       "      <td>2017-03-14 17:43:57.172</td>\n",
       "      <td>4034</td>\n",
       "      <td>TCP</td>\n",
       "      <td>1.1.217.211</td>\n",
       "      <td>20500</td>\n",
       "      <td>Mozilla Firefox</td>\n",
       "      <td>21</td>\n",
       "      <td>Male</td>\n",
       "      <td>AR</td>\n",
       "      <td>Normal</td>\n",
       "      <td>English</td>\n",
       "      <td>731.94</td>\n",
       "      <td>No</td>\n",
       "      <td>0</td>\n",
       "      <td>Debit Card</td>\n",
       "    </tr>\n",
       "    <tr>\n",
       "      <th>2</th>\n",
       "      <td>2017-03-14 17:43:26.135</td>\n",
       "      <td>1525</td>\n",
       "      <td>TCP</td>\n",
       "      <td>1.115.198.107</td>\n",
       "      <td>90100</td>\n",
       "      <td>Mozilla Firefox</td>\n",
       "      <td>20</td>\n",
       "      <td>Male</td>\n",
       "      <td>PL</td>\n",
       "      <td>Normal</td>\n",
       "      <td>English</td>\n",
       "      <td>14.62</td>\n",
       "      <td>No</td>\n",
       "      <td>0</td>\n",
       "      <td>Cash</td>\n",
       "    </tr>\n",
       "    <tr>\n",
       "      <th>3</th>\n",
       "      <td>2017-03-14 17:43:26.135</td>\n",
       "      <td>4572</td>\n",
       "      <td>TCP</td>\n",
       "      <td>1.121.152.143</td>\n",
       "      <td>100300</td>\n",
       "      <td>Mozilla Firefox</td>\n",
       "      <td>66</td>\n",
       "      <td>Female</td>\n",
       "      <td>IN</td>\n",
       "      <td>Normal</td>\n",
       "      <td>Spanish</td>\n",
       "      <td>9.575.775</td>\n",
       "      <td>No</td>\n",
       "      <td>0</td>\n",
       "      <td>Credit Card</td>\n",
       "    </tr>\n",
       "    <tr>\n",
       "      <th>4</th>\n",
       "      <td>2017-03-14 18:17:09.005</td>\n",
       "      <td>3652</td>\n",
       "      <td>TCP</td>\n",
       "      <td>1.123.135.213</td>\n",
       "      <td>270200</td>\n",
       "      <td>Mozilla Firefox</td>\n",
       "      <td>53</td>\n",
       "      <td>Female</td>\n",
       "      <td>KR</td>\n",
       "      <td>Normal</td>\n",
       "      <td>Spanish</td>\n",
       "      <td>22.368</td>\n",
       "      <td>No</td>\n",
       "      <td>0</td>\n",
       "      <td>Cash</td>\n",
       "    </tr>\n",
       "  </tbody>\n",
       "</table>\n",
       "</div>"
      ],
      "text/plain": [
       "             accessed_date  duration_(secs) network_protocol             ip  \\\n",
       "0  2017-03-14 17:43:57.172             2533              TCP   1.10.195.126   \n",
       "1  2017-03-14 17:43:57.172             4034              TCP    1.1.217.211   \n",
       "2  2017-03-14 17:43:26.135             1525              TCP  1.115.198.107   \n",
       "3  2017-03-14 17:43:26.135             4572              TCP  1.121.152.143   \n",
       "4  2017-03-14 18:17:09.005             3652              TCP  1.123.135.213   \n",
       "\n",
       "    bytes    accessed_Ffom age  gender country membership language      sales  \\\n",
       "0   20100           Chrome  28  Female      CA     Normal  English     261.96   \n",
       "1   20500  Mozilla Firefox  21    Male      AR     Normal  English     731.94   \n",
       "2   90100  Mozilla Firefox  20    Male      PL     Normal  English      14.62   \n",
       "3  100300  Mozilla Firefox  66  Female      IN     Normal  Spanish  9.575.775   \n",
       "4  270200  Mozilla Firefox  53  Female      KR     Normal  Spanish     22.368   \n",
       "\n",
       "  returned returned_amount   pay_method  \n",
       "0       No               0  Credit Card  \n",
       "1       No               0   Debit Card  \n",
       "2       No               0         Cash  \n",
       "3       No               0  Credit Card  \n",
       "4       No               0         Cash  "
      ]
     },
     "execution_count": 2,
     "metadata": {},
     "output_type": "execute_result"
    }
   ],
   "source": [
    "#read\n",
    "df = pd.read_csv(\"E-commerce Website Logs new.csv\")\n",
    "df.head()"
   ]
  },
  {
   "cell_type": "markdown",
   "metadata": {},
   "source": [
    "### Data Pre-processing"
   ]
  },
  {
   "cell_type": "markdown",
   "metadata": {},
   "source": [
    "First, we went into the dataset and understood what each of the columns could contribute to our buisness problem. After thoroughly looking thorugh our options, we decided to drop 'network_protocol', 'ip', 'bytes', 'sales', and 'returned_amount'. The column 'network_protocol' didn't seem like a feature that would provide any useful information to our buisness problem as it does not give insght to any kind of marketing strategy or promotions. The column 'ip' only give a unique value for each data point and that would not be very useful for a model. The column 'bytes' was not defined when we were researching our dataset, thus we were not sure what the values represented whether it be the amount of bytes the customer was using when accessing the website or when purchasing the product, etc. so we deemed it so to remove this column as well. The columns 'sales' and 'returned_amount' are types of target variables that we had the choice of using, but decided against it. Since these columns are directly related to our target variable, wherein a 0 in sales can easily predict that the item was returned and a 0 in returned amount would predict the item is not returned, it would not provide our mode with useful information, thus we removed them."
   ]
  },
  {
   "cell_type": "code",
   "execution_count": 3,
   "metadata": {},
   "outputs": [
    {
     "data": {
      "text/html": [
       "<div>\n",
       "<style scoped>\n",
       "    .dataframe tbody tr th:only-of-type {\n",
       "        vertical-align: middle;\n",
       "    }\n",
       "\n",
       "    .dataframe tbody tr th {\n",
       "        vertical-align: top;\n",
       "    }\n",
       "\n",
       "    .dataframe thead th {\n",
       "        text-align: right;\n",
       "    }\n",
       "</style>\n",
       "<table border=\"1\" class=\"dataframe\">\n",
       "  <thead>\n",
       "    <tr style=\"text-align: right;\">\n",
       "      <th></th>\n",
       "      <th>accessed_date</th>\n",
       "      <th>duration_(secs)</th>\n",
       "      <th>accessed_Ffom</th>\n",
       "      <th>age</th>\n",
       "      <th>gender</th>\n",
       "      <th>country</th>\n",
       "      <th>membership</th>\n",
       "      <th>language</th>\n",
       "      <th>returned</th>\n",
       "      <th>pay_method</th>\n",
       "    </tr>\n",
       "  </thead>\n",
       "  <tbody>\n",
       "    <tr>\n",
       "      <th>0</th>\n",
       "      <td>2017-03-14 17:43:57.172</td>\n",
       "      <td>2533</td>\n",
       "      <td>Chrome</td>\n",
       "      <td>28</td>\n",
       "      <td>Female</td>\n",
       "      <td>CA</td>\n",
       "      <td>Normal</td>\n",
       "      <td>English</td>\n",
       "      <td>No</td>\n",
       "      <td>Credit Card</td>\n",
       "    </tr>\n",
       "    <tr>\n",
       "      <th>1</th>\n",
       "      <td>2017-03-14 17:43:57.172</td>\n",
       "      <td>4034</td>\n",
       "      <td>Mozilla Firefox</td>\n",
       "      <td>21</td>\n",
       "      <td>Male</td>\n",
       "      <td>AR</td>\n",
       "      <td>Normal</td>\n",
       "      <td>English</td>\n",
       "      <td>No</td>\n",
       "      <td>Debit Card</td>\n",
       "    </tr>\n",
       "    <tr>\n",
       "      <th>2</th>\n",
       "      <td>2017-03-14 17:43:26.135</td>\n",
       "      <td>1525</td>\n",
       "      <td>Mozilla Firefox</td>\n",
       "      <td>20</td>\n",
       "      <td>Male</td>\n",
       "      <td>PL</td>\n",
       "      <td>Normal</td>\n",
       "      <td>English</td>\n",
       "      <td>No</td>\n",
       "      <td>Cash</td>\n",
       "    </tr>\n",
       "    <tr>\n",
       "      <th>3</th>\n",
       "      <td>2017-03-14 17:43:26.135</td>\n",
       "      <td>4572</td>\n",
       "      <td>Mozilla Firefox</td>\n",
       "      <td>66</td>\n",
       "      <td>Female</td>\n",
       "      <td>IN</td>\n",
       "      <td>Normal</td>\n",
       "      <td>Spanish</td>\n",
       "      <td>No</td>\n",
       "      <td>Credit Card</td>\n",
       "    </tr>\n",
       "    <tr>\n",
       "      <th>4</th>\n",
       "      <td>2017-03-14 18:17:09.005</td>\n",
       "      <td>3652</td>\n",
       "      <td>Mozilla Firefox</td>\n",
       "      <td>53</td>\n",
       "      <td>Female</td>\n",
       "      <td>KR</td>\n",
       "      <td>Normal</td>\n",
       "      <td>Spanish</td>\n",
       "      <td>No</td>\n",
       "      <td>Cash</td>\n",
       "    </tr>\n",
       "  </tbody>\n",
       "</table>\n",
       "</div>"
      ],
      "text/plain": [
       "             accessed_date  duration_(secs)    accessed_Ffom age  gender  \\\n",
       "0  2017-03-14 17:43:57.172             2533           Chrome  28  Female   \n",
       "1  2017-03-14 17:43:57.172             4034  Mozilla Firefox  21    Male   \n",
       "2  2017-03-14 17:43:26.135             1525  Mozilla Firefox  20    Male   \n",
       "3  2017-03-14 17:43:26.135             4572  Mozilla Firefox  66  Female   \n",
       "4  2017-03-14 18:17:09.005             3652  Mozilla Firefox  53  Female   \n",
       "\n",
       "  country membership language returned   pay_method  \n",
       "0      CA     Normal  English       No  Credit Card  \n",
       "1      AR     Normal  English       No   Debit Card  \n",
       "2      PL     Normal  English       No         Cash  \n",
       "3      IN     Normal  Spanish       No  Credit Card  \n",
       "4      KR     Normal  Spanish       No         Cash  "
      ]
     },
     "execution_count": 3,
     "metadata": {},
     "output_type": "execute_result"
    }
   ],
   "source": [
    "#start prep\n",
    "df.drop(['network_protocol', 'ip', 'bytes', 'sales', 'returned_amount'], axis=1, inplace=True)\n",
    "df.head()"
   ]
  },
  {
   "cell_type": "code",
   "execution_count": 4,
   "metadata": {},
   "outputs": [
    {
     "name": "stdout",
     "output_type": "stream",
     "text": [
      "<class 'pandas.core.frame.DataFrame'>\n",
      "RangeIndex: 172838 entries, 0 to 172837\n",
      "Data columns (total 10 columns):\n",
      " #   Column           Non-Null Count   Dtype \n",
      "---  ------           --------------   ----- \n",
      " 0   accessed_date    172838 non-null  object\n",
      " 1   duration_(secs)  172838 non-null  int64 \n",
      " 2   accessed_Ffom    172838 non-null  object\n",
      " 3   age              172838 non-null  object\n",
      " 4   gender           172838 non-null  object\n",
      " 5   country          172838 non-null  object\n",
      " 6   membership       172838 non-null  object\n",
      " 7   language         172838 non-null  object\n",
      " 8   returned         172838 non-null  object\n",
      " 9   pay_method       172838 non-null  object\n",
      "dtypes: int64(1), object(9)\n",
      "memory usage: 13.2+ MB\n"
     ]
    }
   ],
   "source": [
    "df.info()"
   ]
  },
  {
   "cell_type": "markdown",
   "metadata": {},
   "source": [
    "We can see that there are no null values detected from our initial search of finding them. We wanted to make sure that there were no place holders within each of the columns."
   ]
  },
  {
   "cell_type": "markdown",
   "metadata": {},
   "source": [
    "##### 1. Age and Gender column\n",
    "\n",
    "When looking into the age column, we saw that there were placeholder values that represented null items. For some reason there were 2 kinds of 0s and then dashed lines. However, almost 50% of our data consists of these placeholder values which makes it difficult on deciding what to do with these values. We decided on just removing the those values as it was a way not to skew the data because replacing the mean, median, or mode in those values would just make an our model more biased to that value in the age feature. Additionally, since we still have a decent amount of data to use even after removing those data points, we will tset with the data that was left over and if the metrics point to having a better model with more data point then we may return to these data points and add them in. Furthermore, when researching with this column, we also learned that any unknown genders/ place holder values for the gender column was removed whenever we removed all the unknown ages. Since we are working with the data set without the unknown ages, we can skip identifying any unknown values in the gender column."
   ]
  },
  {
   "cell_type": "code",
   "execution_count": 5,
   "metadata": {
    "scrolled": true
   },
   "outputs": [
    {
     "data": {
      "text/plain": [
       "age\n",
       "0     0.241648\n",
       "0     0.182917\n",
       "--    0.085300\n",
       "37    0.010247\n",
       "22    0.010108\n",
       "43    0.009905\n",
       "51    0.009882\n",
       "64    0.009876\n",
       "24    0.009836\n",
       "30    0.009824\n",
       "40    0.009784\n",
       "48    0.009732\n",
       "61    0.009685\n",
       "39    0.009628\n",
       "27    0.009610\n",
       "52    0.009604\n",
       "38    0.009570\n",
       "19    0.009564\n",
       "28    0.009552\n",
       "42    0.009518\n",
       "41    0.009512\n",
       "56    0.009494\n",
       "21    0.009442\n",
       "67    0.009442\n",
       "26    0.009425\n",
       "57    0.009425\n",
       "62    0.009419\n",
       "36    0.009408\n",
       "68    0.009396\n",
       "46    0.009396\n",
       "33    0.009379\n",
       "53    0.009350\n",
       "69    0.009327\n",
       "58    0.009321\n",
       "25    0.009309\n",
       "29    0.009298\n",
       "50    0.009292\n",
       "32    0.009286\n",
       "34    0.009275\n",
       "31    0.009263\n",
       "49    0.009257\n",
       "66    0.009251\n",
       "59    0.009251\n",
       "47    0.009234\n",
       "23    0.009217\n",
       "44    0.009217\n",
       "63    0.009153\n",
       "60    0.009124\n",
       "20    0.009072\n",
       "54    0.009066\n",
       "45    0.009037\n",
       "35    0.008985\n",
       "65    0.008980\n",
       "55    0.008968\n",
       "18    0.008939\n",
       "Name: proportion, dtype: float64"
      ]
     },
     "execution_count": 5,
     "metadata": {},
     "output_type": "execute_result"
    }
   ],
   "source": [
    "df['age'].value_counts(normalize=True)"
   ]
  },
  {
   "cell_type": "code",
   "execution_count": 6,
   "metadata": {},
   "outputs": [],
   "source": [
    "#remove non-integer values\n",
    "df = df[df['age']!=\"--\"] "
   ]
  },
  {
   "cell_type": "code",
   "execution_count": 7,
   "metadata": {},
   "outputs": [],
   "source": [
    "#turn age into integer\n",
    "df['age'] = df['age'].astype('int64')"
   ]
  },
  {
   "cell_type": "code",
   "execution_count": 8,
   "metadata": {},
   "outputs": [
    {
     "name": "stdout",
     "output_type": "stream",
     "text": [
      "<class 'pandas.core.frame.DataFrame'>\n",
      "Index: 158095 entries, 0 to 172837\n",
      "Data columns (total 10 columns):\n",
      " #   Column           Non-Null Count   Dtype \n",
      "---  ------           --------------   ----- \n",
      " 0   accessed_date    158095 non-null  object\n",
      " 1   duration_(secs)  158095 non-null  int64 \n",
      " 2   accessed_Ffom    158095 non-null  object\n",
      " 3   age              158095 non-null  int64 \n",
      " 4   gender           158095 non-null  object\n",
      " 5   country          158095 non-null  object\n",
      " 6   membership       158095 non-null  object\n",
      " 7   language         158095 non-null  object\n",
      " 8   returned         158095 non-null  object\n",
      " 9   pay_method       158095 non-null  object\n",
      "dtypes: int64(2), object(8)\n",
      "memory usage: 13.3+ MB\n"
     ]
    }
   ],
   "source": [
    "df.info()"
   ]
  },
  {
   "cell_type": "code",
   "execution_count": 9,
   "metadata": {
    "scrolled": true
   },
   "outputs": [
    {
     "data": {
      "text/plain": [
       "age\n",
       "0     0.464158\n",
       "37    0.011202\n",
       "22    0.011050\n",
       "43    0.010829\n",
       "51    0.010804\n",
       "64    0.010797\n",
       "24    0.010753\n",
       "30    0.010740\n",
       "40    0.010696\n",
       "48    0.010639\n",
       "61    0.010589\n",
       "39    0.010525\n",
       "27    0.010506\n",
       "52    0.010500\n",
       "38    0.010462\n",
       "19    0.010456\n",
       "28    0.010443\n",
       "42    0.010405\n",
       "41    0.010399\n",
       "56    0.010380\n",
       "21    0.010323\n",
       "67    0.010323\n",
       "26    0.010304\n",
       "57    0.010304\n",
       "62    0.010298\n",
       "36    0.010285\n",
       "68    0.010272\n",
       "46    0.010272\n",
       "33    0.010253\n",
       "53    0.010222\n",
       "69    0.010196\n",
       "58    0.010190\n",
       "25    0.010177\n",
       "29    0.010165\n",
       "50    0.010158\n",
       "32    0.010152\n",
       "34    0.010139\n",
       "31    0.010127\n",
       "49    0.010120\n",
       "59    0.010114\n",
       "66    0.010114\n",
       "47    0.010095\n",
       "23    0.010076\n",
       "44    0.010076\n",
       "63    0.010007\n",
       "60    0.009975\n",
       "20    0.009918\n",
       "54    0.009912\n",
       "45    0.009880\n",
       "35    0.009823\n",
       "65    0.009817\n",
       "55    0.009804\n",
       "18    0.009773\n",
       "Name: proportion, dtype: float64"
      ]
     },
     "execution_count": 9,
     "metadata": {},
     "output_type": "execute_result"
    }
   ],
   "source": [
    "df['age'].value_counts(normalize=True)"
   ]
  },
  {
   "cell_type": "code",
   "execution_count": 10,
   "metadata": {},
   "outputs": [
    {
     "data": {
      "text/plain": [
       "gender\n",
       "Female     93903\n",
       "Male       63049\n",
       "Unknown     1143\n",
       "Name: count, dtype: int64"
      ]
     },
     "execution_count": 10,
     "metadata": {},
     "output_type": "execute_result"
    }
   ],
   "source": [
    "df['gender'].value_counts()"
   ]
  },
  {
   "cell_type": "code",
   "execution_count": 11,
   "metadata": {},
   "outputs": [],
   "source": [
    "#remove placeholders\n",
    "df = df[df['age']!=0]"
   ]
  },
  {
   "cell_type": "code",
   "execution_count": 12,
   "metadata": {
    "scrolled": true
   },
   "outputs": [
    {
     "data": {
      "text/plain": [
       "age\n",
       "37    1771\n",
       "22    1747\n",
       "43    1712\n",
       "51    1708\n",
       "64    1707\n",
       "24    1700\n",
       "30    1698\n",
       "40    1691\n",
       "48    1682\n",
       "61    1674\n",
       "39    1664\n",
       "27    1661\n",
       "52    1660\n",
       "38    1654\n",
       "19    1653\n",
       "28    1651\n",
       "42    1645\n",
       "41    1644\n",
       "56    1641\n",
       "67    1632\n",
       "21    1632\n",
       "57    1629\n",
       "26    1629\n",
       "62    1628\n",
       "36    1626\n",
       "46    1624\n",
       "68    1624\n",
       "33    1621\n",
       "53    1616\n",
       "69    1612\n",
       "58    1611\n",
       "25    1609\n",
       "29    1607\n",
       "50    1606\n",
       "32    1605\n",
       "34    1603\n",
       "31    1601\n",
       "49    1600\n",
       "66    1599\n",
       "59    1599\n",
       "47    1596\n",
       "44    1593\n",
       "23    1593\n",
       "63    1582\n",
       "60    1577\n",
       "20    1568\n",
       "54    1567\n",
       "45    1562\n",
       "35    1553\n",
       "65    1552\n",
       "55    1550\n",
       "18    1545\n",
       "Name: count, dtype: int64"
      ]
     },
     "execution_count": 12,
     "metadata": {},
     "output_type": "execute_result"
    }
   ],
   "source": [
    "df['age'].value_counts()"
   ]
  },
  {
   "cell_type": "markdown",
   "metadata": {},
   "source": [
    "## Duplicate Handling"
   ]
  },
  {
   "cell_type": "code",
   "execution_count": 15,
   "metadata": {},
   "outputs": [
    {
     "name": "stdout",
     "output_type": "stream",
     "text": [
      "Updated accessed_Ffom:\n",
      "accessed_Ffom\n",
      "Android App        18768\n",
      "Chrome             13818\n",
      "Mozilla Firefox    13015\n",
      "Others             13007\n",
      "IOS App            10627\n",
      "Safari              8154\n",
      "Microsoft Edge      7325\n",
      "Name: count, dtype: int64\n"
     ]
    }
   ],
   "source": [
    "# Combine rows with 'Safari' and 'SafFRi'\n",
    "df.loc[df['accessed_Ffom'] == 'SafFRi', 'accessed_Ffom'] = 'Safari'\n",
    "\n",
    "# Check the updated 'accessed_Ffom' column\n",
    "print(\"Updated accessed_Ffom:\")\n",
    "print(df['accessed_Ffom'].value_counts())"
   ]
  },
  {
   "cell_type": "code",
   "execution_count": 16,
   "metadata": {},
   "outputs": [
    {
     "name": "stdout",
     "output_type": "stream",
     "text": [
      "language\n",
      "English       49939\n",
      "Chinese       10172\n",
      "Spanish        7124\n",
      "Russian        6013\n",
      "French         3972\n",
      "Italian        3643\n",
      "German          955\n",
      "Japanese        599\n",
      "Persian         400\n",
      "Thai            361\n",
      "Dutch           288\n",
      "Portuguese      199\n",
      "Arabic          186\n",
      "Polish          123\n",
      "Mongolian       114\n",
      "Malayalam        95\n",
      "Swahili          72\n",
      "Swedish          71\n",
      "Nepali           71\n",
      "Norwegian        58\n",
      "Slovak           48\n",
      "Slovene          44\n",
      "Urdu             39\n",
      "Romanian         36\n",
      "Malay            30\n",
      "Macedonian       24\n",
      "Serbian          14\n",
      "Tegulu           13\n",
      "Marathi          11\n",
      "Name: count, dtype: int64\n"
     ]
    }
   ],
   "source": [
    "# Capitalizing the first letter of each word\n",
    "df['language'] = df['language'].str.split().str[0].str.capitalize()\n",
    "print(df['language'].value_counts())"
   ]
  },
  {
   "cell_type": "markdown",
   "metadata": {},
   "source": [
    "## Category Encoding"
   ]
  },
  {
   "cell_type": "code",
   "execution_count": 17,
   "metadata": {},
   "outputs": [
    {
     "name": "stderr",
     "output_type": "stream",
     "text": [
      "c:\\Users\\scallejo\\AppData\\Local\\anaconda3\\Lib\\site-packages\\sklearn\\utils\\validation.py:605: FutureWarning: is_sparse is deprecated and will be removed in a future version. Check `isinstance(dtype, pd.SparseDtype)` instead.\n",
      "  if is_sparse(pd_dtype):\n",
      "c:\\Users\\scallejo\\AppData\\Local\\anaconda3\\Lib\\site-packages\\sklearn\\utils\\validation.py:614: FutureWarning: is_sparse is deprecated and will be removed in a future version. Check `isinstance(dtype, pd.SparseDtype)` instead.\n",
      "  if is_sparse(pd_dtype) or not is_extension_array_dtype(pd_dtype):\n",
      "c:\\Users\\scallejo\\AppData\\Local\\anaconda3\\Lib\\site-packages\\sklearn\\utils\\validation.py:605: FutureWarning: is_sparse is deprecated and will be removed in a future version. Check `isinstance(dtype, pd.SparseDtype)` instead.\n",
      "  if is_sparse(pd_dtype):\n",
      "c:\\Users\\scallejo\\AppData\\Local\\anaconda3\\Lib\\site-packages\\sklearn\\utils\\validation.py:614: FutureWarning: is_sparse is deprecated and will be removed in a future version. Check `isinstance(dtype, pd.SparseDtype)` instead.\n",
      "  if is_sparse(pd_dtype) or not is_extension_array_dtype(pd_dtype):\n"
     ]
    }
   ],
   "source": [
    "le = LabelEncoder()\n",
    "df['gender'] = le.fit_transform(df['gender'])\n",
    "df['returned'] = le.fit_transform(df['returned'])"
   ]
  },
  {
   "cell_type": "code",
   "execution_count": 18,
   "metadata": {},
   "outputs": [],
   "source": [
    "encoded_columns = ['accessed_Ffom', 'country', 'membership', 'language', 'pay_method']\n",
    "ohe = pd.get_dummies(df[encoded_columns],prefix=encoded_columns, drop_first=True)\n",
    "df_encoded = pd.concat([df, ohe], axis=1)\n",
    "df_encoded = df_encoded.drop(encoded_columns,axis=1)"
   ]
  },
  {
   "cell_type": "code",
   "execution_count": 19,
   "metadata": {},
   "outputs": [
    {
     "name": "stdout",
     "output_type": "stream",
     "text": [
      "<class 'pandas.core.frame.DataFrame'>\n",
      "Index: 84714 entries, 0 to 99456\n",
      "Data columns (total 69 columns):\n",
      " #   Column                         Non-Null Count  Dtype \n",
      "---  ------                         --------------  ----- \n",
      " 0   accessed_date                  84714 non-null  object\n",
      " 1   duration_(secs)                84714 non-null  int64 \n",
      " 2   age                            84714 non-null  int64 \n",
      " 3   gender                         84714 non-null  int32 \n",
      " 4   returned                       84714 non-null  int32 \n",
      " 5   accessed_Ffom_Chrome           84714 non-null  bool  \n",
      " 6   accessed_Ffom_IOS App          84714 non-null  bool  \n",
      " 7   accessed_Ffom_Microsoft Edge   84714 non-null  bool  \n",
      " 8   accessed_Ffom_Mozilla Firefox  84714 non-null  bool  \n",
      " 9   accessed_Ffom_Others           84714 non-null  bool  \n",
      " 10  accessed_Ffom_Safari           84714 non-null  bool  \n",
      " 11  country_AR                     84714 non-null  bool  \n",
      " 12  country_AT                     84714 non-null  bool  \n",
      " 13  country_AU                     84714 non-null  bool  \n",
      " 14  country_CA                     84714 non-null  bool  \n",
      " 15  country_CH                     84714 non-null  bool  \n",
      " 16  country_CN                     84714 non-null  bool  \n",
      " 17  country_CO                     84714 non-null  bool  \n",
      " 18  country_DE                     84714 non-null  bool  \n",
      " 19  country_DK                     84714 non-null  bool  \n",
      " 20  country_FI                     84714 non-null  bool  \n",
      " 21  country_FR                     84714 non-null  bool  \n",
      " 22  country_GB                     84714 non-null  bool  \n",
      " 23  country_IE                     84714 non-null  bool  \n",
      " 24  country_IN                     84714 non-null  bool  \n",
      " 25  country_IT                     84714 non-null  bool  \n",
      " 26  country_JP                     84714 non-null  bool  \n",
      " 27  country_KR                     84714 non-null  bool  \n",
      " 28  country_MX                     84714 non-null  bool  \n",
      " 29  country_NO                     84714 non-null  bool  \n",
      " 30  country_PE                     84714 non-null  bool  \n",
      " 31  country_PL                     84714 non-null  bool  \n",
      " 32  country_PR                     84714 non-null  bool  \n",
      " 33  country_RU                     84714 non-null  bool  \n",
      " 34  country_SE                     84714 non-null  bool  \n",
      " 35  country_US                     84714 non-null  bool  \n",
      " 36  country_ZA                     84714 non-null  bool  \n",
      " 37  membership_Premium             84714 non-null  bool  \n",
      " 38  language_Chinese               84714 non-null  bool  \n",
      " 39  language_Dutch                 84714 non-null  bool  \n",
      " 40  language_English               84714 non-null  bool  \n",
      " 41  language_French                84714 non-null  bool  \n",
      " 42  language_German                84714 non-null  bool  \n",
      " 43  language_Italian               84714 non-null  bool  \n",
      " 44  language_Japanese              84714 non-null  bool  \n",
      " 45  language_Macedonian            84714 non-null  bool  \n",
      " 46  language_Malay                 84714 non-null  bool  \n",
      " 47  language_Malayalam             84714 non-null  bool  \n",
      " 48  language_Marathi               84714 non-null  bool  \n",
      " 49  language_Mongolian             84714 non-null  bool  \n",
      " 50  language_Nepali                84714 non-null  bool  \n",
      " 51  language_Norwegian             84714 non-null  bool  \n",
      " 52  language_Persian               84714 non-null  bool  \n",
      " 53  language_Polish                84714 non-null  bool  \n",
      " 54  language_Portuguese            84714 non-null  bool  \n",
      " 55  language_Romanian              84714 non-null  bool  \n",
      " 56  language_Russian               84714 non-null  bool  \n",
      " 57  language_Serbian               84714 non-null  bool  \n",
      " 58  language_Slovak                84714 non-null  bool  \n",
      " 59  language_Slovene               84714 non-null  bool  \n",
      " 60  language_Spanish               84714 non-null  bool  \n",
      " 61  language_Swahili               84714 non-null  bool  \n",
      " 62  language_Swedish               84714 non-null  bool  \n",
      " 63  language_Tegulu                84714 non-null  bool  \n",
      " 64  language_Thai                  84714 non-null  bool  \n",
      " 65  language_Urdu                  84714 non-null  bool  \n",
      " 66  pay_method_Credit Card         84714 non-null  bool  \n",
      " 67  pay_method_Debit Card          84714 non-null  bool  \n",
      " 68  pay_method_Others              84714 non-null  bool  \n",
      "dtypes: bool(64), int32(2), int64(2), object(1)\n",
      "memory usage: 8.4+ MB\n"
     ]
    }
   ],
   "source": [
    "df_encoded.info()"
   ]
  },
  {
   "cell_type": "markdown",
   "metadata": {},
   "source": [
    "## Undersampling and Oversampling for Imbalanced Data"
   ]
  },
  {
   "cell_type": "code",
   "execution_count": 20,
   "metadata": {},
   "outputs": [
    {
     "name": "stdout",
     "output_type": "stream",
     "text": [
      "Counter({0: 72341, 1: 12373})\n"
     ]
    }
   ],
   "source": [
    "X = df_encoded.drop([\"returned\",\"accessed_date\",\"duration_(secs)\"], axis=1)\n",
    "y = df_encoded.returned\n",
    "print(Counter(y))"
   ]
  },
  {
   "cell_type": "code",
   "execution_count": 21,
   "metadata": {},
   "outputs": [
    {
     "name": "stderr",
     "output_type": "stream",
     "text": [
      "c:\\Users\\scallejo\\AppData\\Local\\anaconda3\\Lib\\site-packages\\sklearn\\utils\\validation.py:605: FutureWarning: is_sparse is deprecated and will be removed in a future version. Check `isinstance(dtype, pd.SparseDtype)` instead.\n",
      "  if is_sparse(pd_dtype):\n",
      "c:\\Users\\scallejo\\AppData\\Local\\anaconda3\\Lib\\site-packages\\sklearn\\utils\\validation.py:614: FutureWarning: is_sparse is deprecated and will be removed in a future version. Check `isinstance(dtype, pd.SparseDtype)` instead.\n",
      "  if is_sparse(pd_dtype) or not is_extension_array_dtype(pd_dtype):\n",
      "c:\\Users\\scallejo\\AppData\\Local\\anaconda3\\Lib\\site-packages\\sklearn\\utils\\validation.py:605: FutureWarning: is_sparse is deprecated and will be removed in a future version. Check `isinstance(dtype, pd.SparseDtype)` instead.\n",
      "  if is_sparse(pd_dtype):\n",
      "c:\\Users\\scallejo\\AppData\\Local\\anaconda3\\Lib\\site-packages\\sklearn\\utils\\validation.py:614: FutureWarning: is_sparse is deprecated and will be removed in a future version. Check `isinstance(dtype, pd.SparseDtype)` instead.\n",
      "  if is_sparse(pd_dtype) or not is_extension_array_dtype(pd_dtype):\n",
      "c:\\Users\\scallejo\\AppData\\Local\\anaconda3\\Lib\\site-packages\\sklearn\\utils\\validation.py:605: FutureWarning: is_sparse is deprecated and will be removed in a future version. Check `isinstance(dtype, pd.SparseDtype)` instead.\n",
      "  if is_sparse(pd_dtype):\n",
      "c:\\Users\\scallejo\\AppData\\Local\\anaconda3\\Lib\\site-packages\\sklearn\\utils\\validation.py:614: FutureWarning: is_sparse is deprecated and will be removed in a future version. Check `isinstance(dtype, pd.SparseDtype)` instead.\n",
      "  if is_sparse(pd_dtype) or not is_extension_array_dtype(pd_dtype):\n",
      "c:\\Users\\scallejo\\AppData\\Local\\anaconda3\\Lib\\site-packages\\sklearn\\utils\\validation.py:605: FutureWarning: is_sparse is deprecated and will be removed in a future version. Check `isinstance(dtype, pd.SparseDtype)` instead.\n",
      "  if is_sparse(pd_dtype):\n",
      "c:\\Users\\scallejo\\AppData\\Local\\anaconda3\\Lib\\site-packages\\sklearn\\utils\\validation.py:614: FutureWarning: is_sparse is deprecated and will be removed in a future version. Check `isinstance(dtype, pd.SparseDtype)` instead.\n",
      "  if is_sparse(pd_dtype) or not is_extension_array_dtype(pd_dtype):\n",
      "c:\\Users\\scallejo\\AppData\\Local\\anaconda3\\Lib\\site-packages\\sklearn\\utils\\validation.py:605: FutureWarning: is_sparse is deprecated and will be removed in a future version. Check `isinstance(dtype, pd.SparseDtype)` instead.\n",
      "  if is_sparse(pd_dtype):\n",
      "c:\\Users\\scallejo\\AppData\\Local\\anaconda3\\Lib\\site-packages\\sklearn\\utils\\validation.py:614: FutureWarning: is_sparse is deprecated and will be removed in a future version. Check `isinstance(dtype, pd.SparseDtype)` instead.\n",
      "  if is_sparse(pd_dtype) or not is_extension_array_dtype(pd_dtype):\n",
      "c:\\Users\\scallejo\\AppData\\Local\\anaconda3\\Lib\\site-packages\\sklearn\\utils\\validation.py:767: FutureWarning: is_sparse is deprecated and will be removed in a future version. Check `isinstance(dtype, pd.SparseDtype)` instead.\n",
      "  if not hasattr(array, \"sparse\") and array.dtypes.apply(is_sparse).any():\n",
      "c:\\Users\\scallejo\\AppData\\Local\\anaconda3\\Lib\\site-packages\\sklearn\\utils\\validation.py:605: FutureWarning: is_sparse is deprecated and will be removed in a future version. Check `isinstance(dtype, pd.SparseDtype)` instead.\n",
      "  if is_sparse(pd_dtype):\n",
      "c:\\Users\\scallejo\\AppData\\Local\\anaconda3\\Lib\\site-packages\\sklearn\\utils\\validation.py:614: FutureWarning: is_sparse is deprecated and will be removed in a future version. Check `isinstance(dtype, pd.SparseDtype)` instead.\n",
      "  if is_sparse(pd_dtype) or not is_extension_array_dtype(pd_dtype):\n"
     ]
    },
    {
     "name": "stdout",
     "output_type": "stream",
     "text": [
      "Counter({0: 72341, 1: 72341})\n"
     ]
    }
   ],
   "source": [
    "from imblearn.over_sampling import RandomOverSampler\n",
    "\n",
    "# define oversampling strategy\n",
    "oversample = RandomOverSampler(sampling_strategy='minority') #This means that if the majority class had 1,000 examples and the minority class had 100, \n",
    "                                                             # this strategy would oversampling the minority class so that it has 1,000 examples.\n",
    "\n",
    "X_over, y_over = oversample.fit_resample(X, y)\n",
    "print(Counter(y_over))"
   ]
  },
  {
   "cell_type": "code",
   "execution_count": 22,
   "metadata": {},
   "outputs": [
    {
     "name": "stdout",
     "output_type": "stream",
     "text": [
      "Counter({0: 12373, 1: 12373})\n"
     ]
    },
    {
     "name": "stderr",
     "output_type": "stream",
     "text": [
      "c:\\Users\\scallejo\\AppData\\Local\\anaconda3\\Lib\\site-packages\\sklearn\\utils\\validation.py:605: FutureWarning: is_sparse is deprecated and will be removed in a future version. Check `isinstance(dtype, pd.SparseDtype)` instead.\n",
      "  if is_sparse(pd_dtype):\n",
      "c:\\Users\\scallejo\\AppData\\Local\\anaconda3\\Lib\\site-packages\\sklearn\\utils\\validation.py:614: FutureWarning: is_sparse is deprecated and will be removed in a future version. Check `isinstance(dtype, pd.SparseDtype)` instead.\n",
      "  if is_sparse(pd_dtype) or not is_extension_array_dtype(pd_dtype):\n",
      "c:\\Users\\scallejo\\AppData\\Local\\anaconda3\\Lib\\site-packages\\sklearn\\utils\\validation.py:605: FutureWarning: is_sparse is deprecated and will be removed in a future version. Check `isinstance(dtype, pd.SparseDtype)` instead.\n",
      "  if is_sparse(pd_dtype):\n",
      "c:\\Users\\scallejo\\AppData\\Local\\anaconda3\\Lib\\site-packages\\sklearn\\utils\\validation.py:614: FutureWarning: is_sparse is deprecated and will be removed in a future version. Check `isinstance(dtype, pd.SparseDtype)` instead.\n",
      "  if is_sparse(pd_dtype) or not is_extension_array_dtype(pd_dtype):\n",
      "c:\\Users\\scallejo\\AppData\\Local\\anaconda3\\Lib\\site-packages\\sklearn\\utils\\validation.py:605: FutureWarning: is_sparse is deprecated and will be removed in a future version. Check `isinstance(dtype, pd.SparseDtype)` instead.\n",
      "  if is_sparse(pd_dtype):\n",
      "c:\\Users\\scallejo\\AppData\\Local\\anaconda3\\Lib\\site-packages\\sklearn\\utils\\validation.py:614: FutureWarning: is_sparse is deprecated and will be removed in a future version. Check `isinstance(dtype, pd.SparseDtype)` instead.\n",
      "  if is_sparse(pd_dtype) or not is_extension_array_dtype(pd_dtype):\n",
      "c:\\Users\\scallejo\\AppData\\Local\\anaconda3\\Lib\\site-packages\\sklearn\\utils\\validation.py:605: FutureWarning: is_sparse is deprecated and will be removed in a future version. Check `isinstance(dtype, pd.SparseDtype)` instead.\n",
      "  if is_sparse(pd_dtype):\n",
      "c:\\Users\\scallejo\\AppData\\Local\\anaconda3\\Lib\\site-packages\\sklearn\\utils\\validation.py:614: FutureWarning: is_sparse is deprecated and will be removed in a future version. Check `isinstance(dtype, pd.SparseDtype)` instead.\n",
      "  if is_sparse(pd_dtype) or not is_extension_array_dtype(pd_dtype):\n",
      "c:\\Users\\scallejo\\AppData\\Local\\anaconda3\\Lib\\site-packages\\sklearn\\utils\\validation.py:605: FutureWarning: is_sparse is deprecated and will be removed in a future version. Check `isinstance(dtype, pd.SparseDtype)` instead.\n",
      "  if is_sparse(pd_dtype):\n",
      "c:\\Users\\scallejo\\AppData\\Local\\anaconda3\\Lib\\site-packages\\sklearn\\utils\\validation.py:614: FutureWarning: is_sparse is deprecated and will be removed in a future version. Check `isinstance(dtype, pd.SparseDtype)` instead.\n",
      "  if is_sparse(pd_dtype) or not is_extension_array_dtype(pd_dtype):\n",
      "c:\\Users\\scallejo\\AppData\\Local\\anaconda3\\Lib\\site-packages\\sklearn\\utils\\validation.py:767: FutureWarning: is_sparse is deprecated and will be removed in a future version. Check `isinstance(dtype, pd.SparseDtype)` instead.\n",
      "  if not hasattr(array, \"sparse\") and array.dtypes.apply(is_sparse).any():\n",
      "c:\\Users\\scallejo\\AppData\\Local\\anaconda3\\Lib\\site-packages\\sklearn\\utils\\validation.py:605: FutureWarning: is_sparse is deprecated and will be removed in a future version. Check `isinstance(dtype, pd.SparseDtype)` instead.\n",
      "  if is_sparse(pd_dtype):\n",
      "c:\\Users\\scallejo\\AppData\\Local\\anaconda3\\Lib\\site-packages\\sklearn\\utils\\validation.py:614: FutureWarning: is_sparse is deprecated and will be removed in a future version. Check `isinstance(dtype, pd.SparseDtype)` instead.\n",
      "  if is_sparse(pd_dtype) or not is_extension_array_dtype(pd_dtype):\n"
     ]
    }
   ],
   "source": [
    "from imblearn.under_sampling import RandomUnderSampler\n",
    "\n",
    "# define undersample strategy\n",
    "undersample = RandomUnderSampler(sampling_strategy='majority')\n",
    "# fit and apply the transform\n",
    "X_under, y_under = undersample.fit_resample(X, y)\n",
    "# summarize class distribution\n",
    "print(Counter(y_under))"
   ]
  },
  {
   "cell_type": "markdown",
   "metadata": {},
   "source": [
    "## Train Test Split"
   ]
  },
  {
   "cell_type": "code",
   "execution_count": 24,
   "metadata": {},
   "outputs": [],
   "source": [
    "from sklearn.model_selection import train_test_split\n",
    "\n",
    "Xo_train, Xo_test, yo_train, yo_test = train_test_split(X_over, y_over, test_size=0.25, random_state=42)\n",
    "Xu_train, Xu_test, yu_train, yu_test = train_test_split(X_under, y_under, test_size=0.25, random_state=42)"
   ]
  },
  {
   "cell_type": "markdown",
   "metadata": {},
   "source": [
    "## Model 2: Random Forest"
   ]
  },
  {
   "cell_type": "code",
   "execution_count": 28,
   "metadata": {},
   "outputs": [],
   "source": [
    "from sklearn.ensemble import RandomForestClassifier\n",
    "import warnings\n",
    "warnings.filterwarnings(\"ignore\")"
   ]
  },
  {
   "cell_type": "markdown",
   "metadata": {},
   "source": [
    "#### Oversampling"
   ]
  },
  {
   "cell_type": "code",
   "execution_count": 29,
   "metadata": {},
   "outputs": [
    {
     "data": {
      "text/html": [
       "<style>#sk-container-id-2 {color: black;background-color: white;}#sk-container-id-2 pre{padding: 0;}#sk-container-id-2 div.sk-toggleable {background-color: white;}#sk-container-id-2 label.sk-toggleable__label {cursor: pointer;display: block;width: 100%;margin-bottom: 0;padding: 0.3em;box-sizing: border-box;text-align: center;}#sk-container-id-2 label.sk-toggleable__label-arrow:before {content: \"▸\";float: left;margin-right: 0.25em;color: #696969;}#sk-container-id-2 label.sk-toggleable__label-arrow:hover:before {color: black;}#sk-container-id-2 div.sk-estimator:hover label.sk-toggleable__label-arrow:before {color: black;}#sk-container-id-2 div.sk-toggleable__content {max-height: 0;max-width: 0;overflow: hidden;text-align: left;background-color: #f0f8ff;}#sk-container-id-2 div.sk-toggleable__content pre {margin: 0.2em;color: black;border-radius: 0.25em;background-color: #f0f8ff;}#sk-container-id-2 input.sk-toggleable__control:checked~div.sk-toggleable__content {max-height: 200px;max-width: 100%;overflow: auto;}#sk-container-id-2 input.sk-toggleable__control:checked~label.sk-toggleable__label-arrow:before {content: \"▾\";}#sk-container-id-2 div.sk-estimator input.sk-toggleable__control:checked~label.sk-toggleable__label {background-color: #d4ebff;}#sk-container-id-2 div.sk-label input.sk-toggleable__control:checked~label.sk-toggleable__label {background-color: #d4ebff;}#sk-container-id-2 input.sk-hidden--visually {border: 0;clip: rect(1px 1px 1px 1px);clip: rect(1px, 1px, 1px, 1px);height: 1px;margin: -1px;overflow: hidden;padding: 0;position: absolute;width: 1px;}#sk-container-id-2 div.sk-estimator {font-family: monospace;background-color: #f0f8ff;border: 1px dotted black;border-radius: 0.25em;box-sizing: border-box;margin-bottom: 0.5em;}#sk-container-id-2 div.sk-estimator:hover {background-color: #d4ebff;}#sk-container-id-2 div.sk-parallel-item::after {content: \"\";width: 100%;border-bottom: 1px solid gray;flex-grow: 1;}#sk-container-id-2 div.sk-label:hover label.sk-toggleable__label {background-color: #d4ebff;}#sk-container-id-2 div.sk-serial::before {content: \"\";position: absolute;border-left: 1px solid gray;box-sizing: border-box;top: 0;bottom: 0;left: 50%;z-index: 0;}#sk-container-id-2 div.sk-serial {display: flex;flex-direction: column;align-items: center;background-color: white;padding-right: 0.2em;padding-left: 0.2em;position: relative;}#sk-container-id-2 div.sk-item {position: relative;z-index: 1;}#sk-container-id-2 div.sk-parallel {display: flex;align-items: stretch;justify-content: center;background-color: white;position: relative;}#sk-container-id-2 div.sk-item::before, #sk-container-id-2 div.sk-parallel-item::before {content: \"\";position: absolute;border-left: 1px solid gray;box-sizing: border-box;top: 0;bottom: 0;left: 50%;z-index: -1;}#sk-container-id-2 div.sk-parallel-item {display: flex;flex-direction: column;z-index: 1;position: relative;background-color: white;}#sk-container-id-2 div.sk-parallel-item:first-child::after {align-self: flex-end;width: 50%;}#sk-container-id-2 div.sk-parallel-item:last-child::after {align-self: flex-start;width: 50%;}#sk-container-id-2 div.sk-parallel-item:only-child::after {width: 0;}#sk-container-id-2 div.sk-dashed-wrapped {border: 1px dashed gray;margin: 0 0.4em 0.5em 0.4em;box-sizing: border-box;padding-bottom: 0.4em;background-color: white;}#sk-container-id-2 div.sk-label label {font-family: monospace;font-weight: bold;display: inline-block;line-height: 1.2em;}#sk-container-id-2 div.sk-label-container {text-align: center;}#sk-container-id-2 div.sk-container {/* jupyter's `normalize.less` sets `[hidden] { display: none; }` but bootstrap.min.css set `[hidden] { display: none !important; }` so we also need the `!important` here to be able to override the default hidden behavior on the sphinx rendered scikit-learn.org. See: https://github.com/scikit-learn/scikit-learn/issues/21755 */display: inline-block !important;position: relative;}#sk-container-id-2 div.sk-text-repr-fallback {display: none;}</style><div id=\"sk-container-id-2\" class=\"sk-top-container\"><div class=\"sk-text-repr-fallback\"><pre>RandomForestClassifier(random_state=0)</pre><b>In a Jupyter environment, please rerun this cell to show the HTML representation or trust the notebook. <br />On GitHub, the HTML representation is unable to render, please try loading this page with nbviewer.org.</b></div><div class=\"sk-container\" hidden><div class=\"sk-item\"><div class=\"sk-estimator sk-toggleable\"><input class=\"sk-toggleable__control sk-hidden--visually\" id=\"sk-estimator-id-2\" type=\"checkbox\" checked><label for=\"sk-estimator-id-2\" class=\"sk-toggleable__label sk-toggleable__label-arrow\">RandomForestClassifier</label><div class=\"sk-toggleable__content\"><pre>RandomForestClassifier(random_state=0)</pre></div></div></div></div></div>"
      ],
      "text/plain": [
       "RandomForestClassifier(random_state=0)"
      ]
     },
     "execution_count": 29,
     "metadata": {},
     "output_type": "execute_result"
    }
   ],
   "source": [
    "clf = RandomForestClassifier(random_state=0)\n",
    "clf.fit(Xo_train, yo_train)"
   ]
  },
  {
   "cell_type": "code",
   "execution_count": 30,
   "metadata": {},
   "outputs": [
    {
     "data": {
      "text/plain": [
       "0.9490927187105455"
      ]
     },
     "execution_count": 30,
     "metadata": {},
     "output_type": "execute_result"
    }
   ],
   "source": [
    "clf.score(Xo_train,yo_train)"
   ]
  },
  {
   "cell_type": "code",
   "execution_count": 31,
   "metadata": {},
   "outputs": [
    {
     "data": {
      "text/plain": [
       "0.8842995770092063"
      ]
     },
     "execution_count": 31,
     "metadata": {},
     "output_type": "execute_result"
    }
   ],
   "source": [
    "clf.score(Xo_test,yo_test)"
   ]
  },
  {
   "cell_type": "markdown",
   "metadata": {},
   "source": [
    "#### Undersampling"
   ]
  },
  {
   "cell_type": "code",
   "execution_count": 32,
   "metadata": {},
   "outputs": [
    {
     "data": {
      "text/html": [
       "<style>#sk-container-id-3 {color: black;background-color: white;}#sk-container-id-3 pre{padding: 0;}#sk-container-id-3 div.sk-toggleable {background-color: white;}#sk-container-id-3 label.sk-toggleable__label {cursor: pointer;display: block;width: 100%;margin-bottom: 0;padding: 0.3em;box-sizing: border-box;text-align: center;}#sk-container-id-3 label.sk-toggleable__label-arrow:before {content: \"▸\";float: left;margin-right: 0.25em;color: #696969;}#sk-container-id-3 label.sk-toggleable__label-arrow:hover:before {color: black;}#sk-container-id-3 div.sk-estimator:hover label.sk-toggleable__label-arrow:before {color: black;}#sk-container-id-3 div.sk-toggleable__content {max-height: 0;max-width: 0;overflow: hidden;text-align: left;background-color: #f0f8ff;}#sk-container-id-3 div.sk-toggleable__content pre {margin: 0.2em;color: black;border-radius: 0.25em;background-color: #f0f8ff;}#sk-container-id-3 input.sk-toggleable__control:checked~div.sk-toggleable__content {max-height: 200px;max-width: 100%;overflow: auto;}#sk-container-id-3 input.sk-toggleable__control:checked~label.sk-toggleable__label-arrow:before {content: \"▾\";}#sk-container-id-3 div.sk-estimator input.sk-toggleable__control:checked~label.sk-toggleable__label {background-color: #d4ebff;}#sk-container-id-3 div.sk-label input.sk-toggleable__control:checked~label.sk-toggleable__label {background-color: #d4ebff;}#sk-container-id-3 input.sk-hidden--visually {border: 0;clip: rect(1px 1px 1px 1px);clip: rect(1px, 1px, 1px, 1px);height: 1px;margin: -1px;overflow: hidden;padding: 0;position: absolute;width: 1px;}#sk-container-id-3 div.sk-estimator {font-family: monospace;background-color: #f0f8ff;border: 1px dotted black;border-radius: 0.25em;box-sizing: border-box;margin-bottom: 0.5em;}#sk-container-id-3 div.sk-estimator:hover {background-color: #d4ebff;}#sk-container-id-3 div.sk-parallel-item::after {content: \"\";width: 100%;border-bottom: 1px solid gray;flex-grow: 1;}#sk-container-id-3 div.sk-label:hover label.sk-toggleable__label {background-color: #d4ebff;}#sk-container-id-3 div.sk-serial::before {content: \"\";position: absolute;border-left: 1px solid gray;box-sizing: border-box;top: 0;bottom: 0;left: 50%;z-index: 0;}#sk-container-id-3 div.sk-serial {display: flex;flex-direction: column;align-items: center;background-color: white;padding-right: 0.2em;padding-left: 0.2em;position: relative;}#sk-container-id-3 div.sk-item {position: relative;z-index: 1;}#sk-container-id-3 div.sk-parallel {display: flex;align-items: stretch;justify-content: center;background-color: white;position: relative;}#sk-container-id-3 div.sk-item::before, #sk-container-id-3 div.sk-parallel-item::before {content: \"\";position: absolute;border-left: 1px solid gray;box-sizing: border-box;top: 0;bottom: 0;left: 50%;z-index: -1;}#sk-container-id-3 div.sk-parallel-item {display: flex;flex-direction: column;z-index: 1;position: relative;background-color: white;}#sk-container-id-3 div.sk-parallel-item:first-child::after {align-self: flex-end;width: 50%;}#sk-container-id-3 div.sk-parallel-item:last-child::after {align-self: flex-start;width: 50%;}#sk-container-id-3 div.sk-parallel-item:only-child::after {width: 0;}#sk-container-id-3 div.sk-dashed-wrapped {border: 1px dashed gray;margin: 0 0.4em 0.5em 0.4em;box-sizing: border-box;padding-bottom: 0.4em;background-color: white;}#sk-container-id-3 div.sk-label label {font-family: monospace;font-weight: bold;display: inline-block;line-height: 1.2em;}#sk-container-id-3 div.sk-label-container {text-align: center;}#sk-container-id-3 div.sk-container {/* jupyter's `normalize.less` sets `[hidden] { display: none; }` but bootstrap.min.css set `[hidden] { display: none !important; }` so we also need the `!important` here to be able to override the default hidden behavior on the sphinx rendered scikit-learn.org. See: https://github.com/scikit-learn/scikit-learn/issues/21755 */display: inline-block !important;position: relative;}#sk-container-id-3 div.sk-text-repr-fallback {display: none;}</style><div id=\"sk-container-id-3\" class=\"sk-top-container\"><div class=\"sk-text-repr-fallback\"><pre>RandomForestClassifier(random_state=0)</pre><b>In a Jupyter environment, please rerun this cell to show the HTML representation or trust the notebook. <br />On GitHub, the HTML representation is unable to render, please try loading this page with nbviewer.org.</b></div><div class=\"sk-container\" hidden><div class=\"sk-item\"><div class=\"sk-estimator sk-toggleable\"><input class=\"sk-toggleable__control sk-hidden--visually\" id=\"sk-estimator-id-3\" type=\"checkbox\" checked><label for=\"sk-estimator-id-3\" class=\"sk-toggleable__label sk-toggleable__label-arrow\">RandomForestClassifier</label><div class=\"sk-toggleable__content\"><pre>RandomForestClassifier(random_state=0)</pre></div></div></div></div></div>"
      ],
      "text/plain": [
       "RandomForestClassifier(random_state=0)"
      ]
     },
     "execution_count": 32,
     "metadata": {},
     "output_type": "execute_result"
    }
   ],
   "source": [
    "clf = RandomForestClassifier(random_state=0)\n",
    "clf.fit(Xu_train, yu_train)"
   ]
  },
  {
   "cell_type": "code",
   "execution_count": 33,
   "metadata": {},
   "outputs": [
    {
     "data": {
      "text/plain": [
       "0.960773748585592"
      ]
     },
     "execution_count": 33,
     "metadata": {},
     "output_type": "execute_result"
    }
   ],
   "source": [
    "clf.score(Xu_train,yu_train)"
   ]
  },
  {
   "cell_type": "code",
   "execution_count": 34,
   "metadata": {},
   "outputs": [
    {
     "data": {
      "text/plain": [
       "0.5134960400840471"
      ]
     },
     "execution_count": 34,
     "metadata": {},
     "output_type": "execute_result"
    }
   ],
   "source": [
    "clf.score(Xu_test,yu_test)"
   ]
  },
  {
   "cell_type": "markdown",
   "metadata": {},
   "source": [
    "There is possible overfitting case here due to tht testing scorea being lower and the training scores being so good"
   ]
  },
  {
   "cell_type": "markdown",
   "metadata": {},
   "source": [
    "#### oversampling"
   ]
  },
  {
   "cell_type": "code",
   "execution_count": 35,
   "metadata": {},
   "outputs": [],
   "source": [
    "param_grid = { \n",
    "    'n_estimators': [25, 50, 100, 150], \n",
    "    'max_features': ['sqrt', 'log2', None], \n",
    "    'max_depth': [3, 6, 9] \n",
    "} "
   ]
  },
  {
   "cell_type": "code",
   "execution_count": 41,
   "metadata": {},
   "outputs": [
    {
     "name": "stdout",
     "output_type": "stream",
     "text": [
      "RandomForestClassifier(max_depth=9, max_features=None, n_estimators=50,\n",
      "                       random_state=0)\n"
     ]
    }
   ],
   "source": [
    "from sklearn.model_selection import GridSearchCV\n",
    "\n",
    "grid_search = GridSearchCV(RandomForestClassifier(random_state=0), param_grid=param_grid) \n",
    "grid_search.fit(Xo_train, yo_train) \n",
    "print(grid_search.best_estimator_) "
   ]
  },
  {
   "cell_type": "code",
   "execution_count": 56,
   "metadata": {},
   "outputs": [
    {
     "data": {
      "text/plain": [
       "0.9380892259770899"
      ]
     },
     "execution_count": 56,
     "metadata": {},
     "output_type": "execute_result"
    }
   ],
   "source": [
    "\n",
    "clf_grid = RandomForestClassifier(max_depth=25) #max_features= None, n_estimators=25\n",
    "clf_grid.fit(Xo_train, yo_train) \n",
    "clf_grid.score(Xo_train, yo_train)"
   ]
  },
  {
   "cell_type": "code",
   "execution_count": 57,
   "metadata": {},
   "outputs": [
    {
     "data": {
      "text/plain": [
       "0.8681816925161041"
      ]
     },
     "execution_count": 57,
     "metadata": {},
     "output_type": "execute_result"
    }
   ],
   "source": [
    "clf_grid.score(Xo_test, yo_test)"
   ]
  },
  {
   "cell_type": "markdown",
   "metadata": {},
   "source": [
    "#### undersampling"
   ]
  },
  {
   "cell_type": "code",
   "execution_count": 62,
   "metadata": {},
   "outputs": [
    {
     "data": {
      "text/plain": [
       "0.9010722560482785"
      ]
     },
     "execution_count": 62,
     "metadata": {},
     "output_type": "execute_result"
    }
   ],
   "source": [
    "clf_grid = RandomForestClassifier(max_depth=20) #max_features= None, n_estimators=25\n",
    "clf_grid.fit(Xu_train, yu_train) \n",
    "clf_grid.score(Xu_train, yu_train)"
   ]
  },
  {
   "cell_type": "code",
   "execution_count": 63,
   "metadata": {},
   "outputs": [
    {
     "data": {
      "text/plain": [
       "0.5170518829804429"
      ]
     },
     "execution_count": 63,
     "metadata": {},
     "output_type": "execute_result"
    }
   ],
   "source": [
    "clf_grid.score(Xu_test, yu_test)"
   ]
  },
  {
   "cell_type": "markdown",
   "metadata": {},
   "source": [
    "Seems as though hyperparameter tuning does not help our model... but it looks like over sampling is better for our data."
   ]
  }
 ],
 "metadata": {
  "kernelspec": {
   "display_name": "Python 3",
   "language": "python",
   "name": "python3"
  },
  "language_info": {
   "codemirror_mode": {
    "name": "ipython",
    "version": 3
   },
   "file_extension": ".py",
   "mimetype": "text/x-python",
   "name": "python",
   "nbconvert_exporter": "python",
   "pygments_lexer": "ipython3",
   "version": "3.11.5"
  }
 },
 "nbformat": 4,
 "nbformat_minor": 4
}
