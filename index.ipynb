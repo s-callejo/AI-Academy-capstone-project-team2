{
 "cells": [
  {
   "cell_type": "code",
   "execution_count": 1,
   "metadata": {},
   "outputs": [],
   "source": [
    "#imports\n",
    "import pandas as pd\n",
    "import matplotlib.pyplot as plt"
   ]
  },
  {
   "cell_type": "code",
   "execution_count": 2,
   "metadata": {},
   "outputs": [
    {
     "name": "stderr",
     "output_type": "stream",
     "text": [
      "C:\\Users\\ARIKOHL\\AppData\\Local\\anaconda3\\envs\\learn-env\\lib\\site-packages\\IPython\\core\\interactiveshell.py:3145: DtypeWarning: Columns (6) have mixed types.Specify dtype option on import or set low_memory=False.\n",
      "  has_raised = await self.run_ast_nodes(code_ast.body, cell_name,\n"
     ]
    },
    {
     "data": {
      "text/html": [
       "<div>\n",
       "<style scoped>\n",
       "    .dataframe tbody tr th:only-of-type {\n",
       "        vertical-align: middle;\n",
       "    }\n",
       "\n",
       "    .dataframe tbody tr th {\n",
       "        vertical-align: top;\n",
       "    }\n",
       "\n",
       "    .dataframe thead th {\n",
       "        text-align: right;\n",
       "    }\n",
       "</style>\n",
       "<table border=\"1\" class=\"dataframe\">\n",
       "  <thead>\n",
       "    <tr style=\"text-align: right;\">\n",
       "      <th></th>\n",
       "      <th>accessed_date</th>\n",
       "      <th>duration_(secs)</th>\n",
       "      <th>network_protocol</th>\n",
       "      <th>ip</th>\n",
       "      <th>bytes</th>\n",
       "      <th>accessed_Ffom</th>\n",
       "      <th>age</th>\n",
       "      <th>gender</th>\n",
       "      <th>country</th>\n",
       "      <th>membership</th>\n",
       "      <th>language</th>\n",
       "      <th>sales</th>\n",
       "      <th>returned</th>\n",
       "      <th>returned_amount</th>\n",
       "      <th>pay_method</th>\n",
       "    </tr>\n",
       "  </thead>\n",
       "  <tbody>\n",
       "    <tr>\n",
       "      <th>0</th>\n",
       "      <td>2017-03-14 17:43:57.172</td>\n",
       "      <td>2533</td>\n",
       "      <td>TCP</td>\n",
       "      <td>1.10.195.126</td>\n",
       "      <td>20100</td>\n",
       "      <td>Chrome</td>\n",
       "      <td>28</td>\n",
       "      <td>Female</td>\n",
       "      <td>CA</td>\n",
       "      <td>Normal</td>\n",
       "      <td>English</td>\n",
       "      <td>261.96</td>\n",
       "      <td>No</td>\n",
       "      <td>0</td>\n",
       "      <td>Credit Card</td>\n",
       "    </tr>\n",
       "    <tr>\n",
       "      <th>1</th>\n",
       "      <td>2017-03-14 17:43:57.172</td>\n",
       "      <td>4034</td>\n",
       "      <td>TCP</td>\n",
       "      <td>1.1.217.211</td>\n",
       "      <td>20500</td>\n",
       "      <td>Mozilla Firefox</td>\n",
       "      <td>21</td>\n",
       "      <td>Male</td>\n",
       "      <td>AR</td>\n",
       "      <td>Normal</td>\n",
       "      <td>English</td>\n",
       "      <td>731.94</td>\n",
       "      <td>No</td>\n",
       "      <td>0</td>\n",
       "      <td>Debit Card</td>\n",
       "    </tr>\n",
       "    <tr>\n",
       "      <th>2</th>\n",
       "      <td>2017-03-14 17:43:26.135</td>\n",
       "      <td>1525</td>\n",
       "      <td>TCP</td>\n",
       "      <td>1.115.198.107</td>\n",
       "      <td>90100</td>\n",
       "      <td>Mozilla Firefox</td>\n",
       "      <td>20</td>\n",
       "      <td>Male</td>\n",
       "      <td>PL</td>\n",
       "      <td>Normal</td>\n",
       "      <td>English</td>\n",
       "      <td>14.62</td>\n",
       "      <td>No</td>\n",
       "      <td>0</td>\n",
       "      <td>Cash</td>\n",
       "    </tr>\n",
       "    <tr>\n",
       "      <th>3</th>\n",
       "      <td>2017-03-14 17:43:26.135</td>\n",
       "      <td>4572</td>\n",
       "      <td>TCP</td>\n",
       "      <td>1.121.152.143</td>\n",
       "      <td>100300</td>\n",
       "      <td>Mozilla Firefox</td>\n",
       "      <td>66</td>\n",
       "      <td>Female</td>\n",
       "      <td>IN</td>\n",
       "      <td>Normal</td>\n",
       "      <td>Spanish</td>\n",
       "      <td>9.575.775</td>\n",
       "      <td>No</td>\n",
       "      <td>0</td>\n",
       "      <td>Credit Card</td>\n",
       "    </tr>\n",
       "    <tr>\n",
       "      <th>4</th>\n",
       "      <td>2017-03-14 18:17:09.005</td>\n",
       "      <td>3652</td>\n",
       "      <td>TCP</td>\n",
       "      <td>1.123.135.213</td>\n",
       "      <td>270200</td>\n",
       "      <td>Mozilla Firefox</td>\n",
       "      <td>53</td>\n",
       "      <td>Female</td>\n",
       "      <td>KR</td>\n",
       "      <td>Normal</td>\n",
       "      <td>Spanish</td>\n",
       "      <td>22.368</td>\n",
       "      <td>No</td>\n",
       "      <td>0</td>\n",
       "      <td>Cash</td>\n",
       "    </tr>\n",
       "  </tbody>\n",
       "</table>\n",
       "</div>"
      ],
      "text/plain": [
       "             accessed_date  duration_(secs) network_protocol             ip  \\\n",
       "0  2017-03-14 17:43:57.172             2533              TCP   1.10.195.126   \n",
       "1  2017-03-14 17:43:57.172             4034              TCP    1.1.217.211   \n",
       "2  2017-03-14 17:43:26.135             1525              TCP  1.115.198.107   \n",
       "3  2017-03-14 17:43:26.135             4572              TCP  1.121.152.143   \n",
       "4  2017-03-14 18:17:09.005             3652              TCP  1.123.135.213   \n",
       "\n",
       "    bytes    accessed_Ffom age  gender country membership language      sales  \\\n",
       "0   20100           Chrome  28  Female      CA     Normal  English     261.96   \n",
       "1   20500  Mozilla Firefox  21    Male      AR     Normal  English     731.94   \n",
       "2   90100  Mozilla Firefox  20    Male      PL     Normal  English      14.62   \n",
       "3  100300  Mozilla Firefox  66  Female      IN     Normal  Spanish  9.575.775   \n",
       "4  270200  Mozilla Firefox  53  Female      KR     Normal  Spanish     22.368   \n",
       "\n",
       "  returned returned_amount   pay_method  \n",
       "0       No               0  Credit Card  \n",
       "1       No               0   Debit Card  \n",
       "2       No               0         Cash  \n",
       "3       No               0  Credit Card  \n",
       "4       No               0         Cash  "
      ]
     },
     "execution_count": 2,
     "metadata": {},
     "output_type": "execute_result"
    }
   ],
   "source": [
    "#read\n",
    "df = pd.read_csv(\"E-commerce Website Logs new.csv\")\n",
    "df.head()"
   ]
  },
  {
   "cell_type": "code",
   "execution_count": 3,
   "metadata": {},
   "outputs": [
    {
     "data": {
      "text/html": [
       "<div>\n",
       "<style scoped>\n",
       "    .dataframe tbody tr th:only-of-type {\n",
       "        vertical-align: middle;\n",
       "    }\n",
       "\n",
       "    .dataframe tbody tr th {\n",
       "        vertical-align: top;\n",
       "    }\n",
       "\n",
       "    .dataframe thead th {\n",
       "        text-align: right;\n",
       "    }\n",
       "</style>\n",
       "<table border=\"1\" class=\"dataframe\">\n",
       "  <thead>\n",
       "    <tr style=\"text-align: right;\">\n",
       "      <th></th>\n",
       "      <th>accessed_date</th>\n",
       "      <th>duration_(secs)</th>\n",
       "      <th>accessed_Ffom</th>\n",
       "      <th>age</th>\n",
       "      <th>gender</th>\n",
       "      <th>country</th>\n",
       "      <th>membership</th>\n",
       "      <th>language</th>\n",
       "      <th>sales</th>\n",
       "      <th>returned</th>\n",
       "      <th>returned_amount</th>\n",
       "      <th>pay_method</th>\n",
       "    </tr>\n",
       "  </thead>\n",
       "  <tbody>\n",
       "    <tr>\n",
       "      <th>0</th>\n",
       "      <td>2017-03-14 17:43:57.172</td>\n",
       "      <td>2533</td>\n",
       "      <td>Chrome</td>\n",
       "      <td>28</td>\n",
       "      <td>Female</td>\n",
       "      <td>CA</td>\n",
       "      <td>Normal</td>\n",
       "      <td>English</td>\n",
       "      <td>261.96</td>\n",
       "      <td>No</td>\n",
       "      <td>0</td>\n",
       "      <td>Credit Card</td>\n",
       "    </tr>\n",
       "    <tr>\n",
       "      <th>1</th>\n",
       "      <td>2017-03-14 17:43:57.172</td>\n",
       "      <td>4034</td>\n",
       "      <td>Mozilla Firefox</td>\n",
       "      <td>21</td>\n",
       "      <td>Male</td>\n",
       "      <td>AR</td>\n",
       "      <td>Normal</td>\n",
       "      <td>English</td>\n",
       "      <td>731.94</td>\n",
       "      <td>No</td>\n",
       "      <td>0</td>\n",
       "      <td>Debit Card</td>\n",
       "    </tr>\n",
       "    <tr>\n",
       "      <th>2</th>\n",
       "      <td>2017-03-14 17:43:26.135</td>\n",
       "      <td>1525</td>\n",
       "      <td>Mozilla Firefox</td>\n",
       "      <td>20</td>\n",
       "      <td>Male</td>\n",
       "      <td>PL</td>\n",
       "      <td>Normal</td>\n",
       "      <td>English</td>\n",
       "      <td>14.62</td>\n",
       "      <td>No</td>\n",
       "      <td>0</td>\n",
       "      <td>Cash</td>\n",
       "    </tr>\n",
       "    <tr>\n",
       "      <th>3</th>\n",
       "      <td>2017-03-14 17:43:26.135</td>\n",
       "      <td>4572</td>\n",
       "      <td>Mozilla Firefox</td>\n",
       "      <td>66</td>\n",
       "      <td>Female</td>\n",
       "      <td>IN</td>\n",
       "      <td>Normal</td>\n",
       "      <td>Spanish</td>\n",
       "      <td>9.575.775</td>\n",
       "      <td>No</td>\n",
       "      <td>0</td>\n",
       "      <td>Credit Card</td>\n",
       "    </tr>\n",
       "    <tr>\n",
       "      <th>4</th>\n",
       "      <td>2017-03-14 18:17:09.005</td>\n",
       "      <td>3652</td>\n",
       "      <td>Mozilla Firefox</td>\n",
       "      <td>53</td>\n",
       "      <td>Female</td>\n",
       "      <td>KR</td>\n",
       "      <td>Normal</td>\n",
       "      <td>Spanish</td>\n",
       "      <td>22.368</td>\n",
       "      <td>No</td>\n",
       "      <td>0</td>\n",
       "      <td>Cash</td>\n",
       "    </tr>\n",
       "  </tbody>\n",
       "</table>\n",
       "</div>"
      ],
      "text/plain": [
       "             accessed_date  duration_(secs)    accessed_Ffom age  gender  \\\n",
       "0  2017-03-14 17:43:57.172             2533           Chrome  28  Female   \n",
       "1  2017-03-14 17:43:57.172             4034  Mozilla Firefox  21    Male   \n",
       "2  2017-03-14 17:43:26.135             1525  Mozilla Firefox  20    Male   \n",
       "3  2017-03-14 17:43:26.135             4572  Mozilla Firefox  66  Female   \n",
       "4  2017-03-14 18:17:09.005             3652  Mozilla Firefox  53  Female   \n",
       "\n",
       "  country membership language      sales returned returned_amount   pay_method  \n",
       "0      CA     Normal  English     261.96       No               0  Credit Card  \n",
       "1      AR     Normal  English     731.94       No               0   Debit Card  \n",
       "2      PL     Normal  English      14.62       No               0         Cash  \n",
       "3      IN     Normal  Spanish  9.575.775       No               0  Credit Card  \n",
       "4      KR     Normal  Spanish     22.368       No               0         Cash  "
      ]
     },
     "execution_count": 3,
     "metadata": {},
     "output_type": "execute_result"
    }
   ],
   "source": [
    "#start prep\n",
    "df.drop(['network_protocol', 'ip', 'bytes'], axis=1, inplace=True)\n",
    "df.head()"
   ]
  },
  {
   "cell_type": "code",
   "execution_count": 4,
   "metadata": {},
   "outputs": [
    {
     "name": "stdout",
     "output_type": "stream",
     "text": [
      "<class 'pandas.core.frame.DataFrame'>\n",
      "RangeIndex: 172838 entries, 0 to 172837\n",
      "Data columns (total 12 columns):\n",
      " #   Column           Non-Null Count   Dtype \n",
      "---  ------           --------------   ----- \n",
      " 0   accessed_date    172838 non-null  object\n",
      " 1   duration_(secs)  172838 non-null  int64 \n",
      " 2   accessed_Ffom    172838 non-null  object\n",
      " 3   age              172838 non-null  object\n",
      " 4   gender           172838 non-null  object\n",
      " 5   country          172838 non-null  object\n",
      " 6   membership       172838 non-null  object\n",
      " 7   language         172838 non-null  object\n",
      " 8   sales            172838 non-null  object\n",
      " 9   returned         172838 non-null  object\n",
      " 10  returned_amount  172838 non-null  object\n",
      " 11  pay_method       172838 non-null  object\n",
      "dtypes: int64(1), object(11)\n",
      "memory usage: 15.8+ MB\n"
     ]
    }
   ],
   "source": [
    "df.info()"
   ]
  },
  {
   "cell_type": "code",
   "execution_count": 5,
   "metadata": {
    "scrolled": true
   },
   "outputs": [
    {
     "data": {
      "text/plain": [
       "0     41766\n",
       "0     31615\n",
       "--    14743\n",
       "37     1771\n",
       "22     1747\n",
       "43     1712\n",
       "51     1708\n",
       "64     1707\n",
       "24     1700\n",
       "30     1698\n",
       "40     1691\n",
       "48     1682\n",
       "61     1674\n",
       "39     1664\n",
       "27     1661\n",
       "52     1660\n",
       "38     1654\n",
       "19     1653\n",
       "28     1651\n",
       "42     1645\n",
       "41     1644\n",
       "56     1641\n",
       "21     1632\n",
       "67     1632\n",
       "57     1629\n",
       "26     1629\n",
       "62     1628\n",
       "36     1626\n",
       "68     1624\n",
       "46     1624\n",
       "33     1621\n",
       "53     1616\n",
       "69     1612\n",
       "58     1611\n",
       "25     1609\n",
       "29     1607\n",
       "50     1606\n",
       "32     1605\n",
       "34     1603\n",
       "31     1601\n",
       "49     1600\n",
       "66     1599\n",
       "59     1599\n",
       "47     1596\n",
       "23     1593\n",
       "44     1593\n",
       "63     1582\n",
       "60     1577\n",
       "20     1568\n",
       "54     1567\n",
       "45     1562\n",
       "35     1553\n",
       "65     1552\n",
       "55     1550\n",
       "18     1545\n",
       "Name: age, dtype: int64"
      ]
     },
     "execution_count": 5,
     "metadata": {},
     "output_type": "execute_result"
    }
   ],
   "source": [
    "df['age'].value_counts()"
   ]
  },
  {
   "cell_type": "code",
   "execution_count": 6,
   "metadata": {},
   "outputs": [],
   "source": [
    "df = df[df['age']!=\"--\"] #remove non-integer values"
   ]
  },
  {
   "cell_type": "code",
   "execution_count": 7,
   "metadata": {},
   "outputs": [],
   "source": [
    "#turn age into integer\n",
    "df['age'] = df['age'].astype('int64')"
   ]
  },
  {
   "cell_type": "code",
   "execution_count": 8,
   "metadata": {},
   "outputs": [
    {
     "name": "stdout",
     "output_type": "stream",
     "text": [
      "<class 'pandas.core.frame.DataFrame'>\n",
      "Int64Index: 158095 entries, 0 to 172837\n",
      "Data columns (total 12 columns):\n",
      " #   Column           Non-Null Count   Dtype \n",
      "---  ------           --------------   ----- \n",
      " 0   accessed_date    158095 non-null  object\n",
      " 1   duration_(secs)  158095 non-null  int64 \n",
      " 2   accessed_Ffom    158095 non-null  object\n",
      " 3   age              158095 non-null  int64 \n",
      " 4   gender           158095 non-null  object\n",
      " 5   country          158095 non-null  object\n",
      " 6   membership       158095 non-null  object\n",
      " 7   language         158095 non-null  object\n",
      " 8   sales            158095 non-null  object\n",
      " 9   returned         158095 non-null  object\n",
      " 10  returned_amount  158095 non-null  object\n",
      " 11  pay_method       158095 non-null  object\n",
      "dtypes: int64(2), object(10)\n",
      "memory usage: 15.7+ MB\n"
     ]
    }
   ],
   "source": [
    "df.info()"
   ]
  },
  {
   "cell_type": "code",
   "execution_count": 9,
   "metadata": {
    "scrolled": true
   },
   "outputs": [
    {
     "data": {
      "text/plain": [
       "0     73381\n",
       "37     1771\n",
       "22     1747\n",
       "43     1712\n",
       "51     1708\n",
       "64     1707\n",
       "24     1700\n",
       "30     1698\n",
       "40     1691\n",
       "48     1682\n",
       "61     1674\n",
       "39     1664\n",
       "27     1661\n",
       "52     1660\n",
       "38     1654\n",
       "19     1653\n",
       "28     1651\n",
       "42     1645\n",
       "41     1644\n",
       "56     1641\n",
       "67     1632\n",
       "21     1632\n",
       "26     1629\n",
       "57     1629\n",
       "62     1628\n",
       "36     1626\n",
       "46     1624\n",
       "68     1624\n",
       "33     1621\n",
       "53     1616\n",
       "69     1612\n",
       "58     1611\n",
       "25     1609\n",
       "29     1607\n",
       "50     1606\n",
       "32     1605\n",
       "34     1603\n",
       "31     1601\n",
       "49     1600\n",
       "59     1599\n",
       "66     1599\n",
       "47     1596\n",
       "44     1593\n",
       "23     1593\n",
       "63     1582\n",
       "60     1577\n",
       "20     1568\n",
       "54     1567\n",
       "45     1562\n",
       "35     1553\n",
       "65     1552\n",
       "55     1550\n",
       "18     1545\n",
       "Name: age, dtype: int64"
      ]
     },
     "execution_count": 9,
     "metadata": {},
     "output_type": "execute_result"
    }
   ],
   "source": [
    "df['age'].value_counts()"
   ]
  },
  {
   "cell_type": "code",
   "execution_count": 10,
   "metadata": {},
   "outputs": [
    {
     "data": {
      "text/plain": [
       "Female     93903\n",
       "Male       63049\n",
       "Unknown     1143\n",
       "Name: gender, dtype: int64"
      ]
     },
     "execution_count": 10,
     "metadata": {},
     "output_type": "execute_result"
    }
   ],
   "source": [
    "df['gender'].value_counts()"
   ]
  },
  {
   "cell_type": "code",
   "execution_count": 11,
   "metadata": {},
   "outputs": [],
   "source": [
    "df = df[df['age']!=0]"
   ]
  },
  {
   "cell_type": "code",
   "execution_count": 12,
   "metadata": {
    "scrolled": true
   },
   "outputs": [
    {
     "data": {
      "text/plain": [
       "37    1771\n",
       "22    1747\n",
       "43    1712\n",
       "51    1708\n",
       "64    1707\n",
       "24    1700\n",
       "30    1698\n",
       "40    1691\n",
       "48    1682\n",
       "61    1674\n",
       "39    1664\n",
       "27    1661\n",
       "52    1660\n",
       "38    1654\n",
       "19    1653\n",
       "28    1651\n",
       "42    1645\n",
       "41    1644\n",
       "56    1641\n",
       "21    1632\n",
       "67    1632\n",
       "26    1629\n",
       "57    1629\n",
       "62    1628\n",
       "36    1626\n",
       "68    1624\n",
       "46    1624\n",
       "33    1621\n",
       "53    1616\n",
       "69    1612\n",
       "58    1611\n",
       "25    1609\n",
       "29    1607\n",
       "50    1606\n",
       "32    1605\n",
       "34    1603\n",
       "31    1601\n",
       "49    1600\n",
       "59    1599\n",
       "66    1599\n",
       "47    1596\n",
       "44    1593\n",
       "23    1593\n",
       "63    1582\n",
       "60    1577\n",
       "20    1568\n",
       "54    1567\n",
       "45    1562\n",
       "35    1553\n",
       "65    1552\n",
       "55    1550\n",
       "18    1545\n",
       "Name: age, dtype: int64"
      ]
     },
     "execution_count": 12,
     "metadata": {},
     "output_type": "execute_result"
    }
   ],
   "source": [
    "df['age'].value_counts()"
   ]
  },
  {
   "cell_type": "code",
   "execution_count": 13,
   "metadata": {},
   "outputs": [
    {
     "data": {
      "text/plain": [
       "Female    50682\n",
       "Male      34032\n",
       "Name: gender, dtype: int64"
      ]
     },
     "execution_count": 13,
     "metadata": {},
     "output_type": "execute_result"
    }
   ],
   "source": [
    "df['gender'].value_counts()"
   ]
  },
  {
   "cell_type": "code",
   "execution_count": null,
   "metadata": {},
   "outputs": [],
   "source": []
  }
 ],
 "metadata": {
  "kernelspec": {
   "display_name": "Python (learn-env)",
   "language": "python",
   "name": "learn-env"
  },
  "language_info": {
   "codemirror_mode": {
    "name": "ipython",
    "version": 3
   },
   "file_extension": ".py",
   "mimetype": "text/x-python",
   "name": "python",
   "nbconvert_exporter": "python",
   "pygments_lexer": "ipython3",
   "version": "3.8.5"
  }
 },
 "nbformat": 4,
 "nbformat_minor": 4
}
