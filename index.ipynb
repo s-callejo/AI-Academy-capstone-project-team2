{
 "cells": [
  {
   "cell_type": "markdown",
   "metadata": {},
   "source": [
    "# Group 2 Capstone Project"
   ]
  },
  {
   "cell_type": "markdown",
   "metadata": {},
   "source": [
    "#### Import nessecary files"
   ]
  },
  {
   "cell_type": "code",
   "execution_count": 1,
   "metadata": {},
   "outputs": [],
   "source": [
    "#imports\n",
    "import pandas as pd\n",
    "import matplotlib.pyplot as plt"
   ]
  },
  {
   "cell_type": "markdown",
   "metadata": {},
   "source": [
    "#### Read in dataset\n",
    "\n",
    "https://www.kaggle.com/datasets/willianoliveiragibin/websites-e-comerce\n",
    "\n",
    "E-commerce data set with columns: 'accessed_date', 'duration_(secs)', 'network_protocol', 'ip', 'bytes', 'accessed_Ffom', 'age', 'gender', 'country', 'membership', 'language','sales', 'returned_amount', 'pay_method' with target variable being 'returned'"
   ]
  },
  {
   "cell_type": "code",
   "execution_count": 2,
   "metadata": {},
   "outputs": [
    {
     "name": "stderr",
     "output_type": "stream",
     "text": [
      "C:\\Users\\scallejo\\AppData\\Local\\Temp\\ipykernel_23416\\4241691710.py:2: DtypeWarning: Columns (6) have mixed types. Specify dtype option on import or set low_memory=False.\n",
      "  df = pd.read_csv(\"E-commerce Website Logs new.csv\")\n"
     ]
    },
    {
     "data": {
      "text/html": [
       "<div>\n",
       "<style scoped>\n",
       "    .dataframe tbody tr th:only-of-type {\n",
       "        vertical-align: middle;\n",
       "    }\n",
       "\n",
       "    .dataframe tbody tr th {\n",
       "        vertical-align: top;\n",
       "    }\n",
       "\n",
       "    .dataframe thead th {\n",
       "        text-align: right;\n",
       "    }\n",
       "</style>\n",
       "<table border=\"1\" class=\"dataframe\">\n",
       "  <thead>\n",
       "    <tr style=\"text-align: right;\">\n",
       "      <th></th>\n",
       "      <th>accessed_date</th>\n",
       "      <th>duration_(secs)</th>\n",
       "      <th>network_protocol</th>\n",
       "      <th>ip</th>\n",
       "      <th>bytes</th>\n",
       "      <th>accessed_Ffom</th>\n",
       "      <th>age</th>\n",
       "      <th>gender</th>\n",
       "      <th>country</th>\n",
       "      <th>membership</th>\n",
       "      <th>language</th>\n",
       "      <th>sales</th>\n",
       "      <th>returned</th>\n",
       "      <th>returned_amount</th>\n",
       "      <th>pay_method</th>\n",
       "    </tr>\n",
       "  </thead>\n",
       "  <tbody>\n",
       "    <tr>\n",
       "      <th>0</th>\n",
       "      <td>2017-03-14 17:43:57.172</td>\n",
       "      <td>2533</td>\n",
       "      <td>TCP</td>\n",
       "      <td>1.10.195.126</td>\n",
       "      <td>20100</td>\n",
       "      <td>Chrome</td>\n",
       "      <td>28</td>\n",
       "      <td>Female</td>\n",
       "      <td>CA</td>\n",
       "      <td>Normal</td>\n",
       "      <td>English</td>\n",
       "      <td>261.96</td>\n",
       "      <td>No</td>\n",
       "      <td>0</td>\n",
       "      <td>Credit Card</td>\n",
       "    </tr>\n",
       "    <tr>\n",
       "      <th>1</th>\n",
       "      <td>2017-03-14 17:43:57.172</td>\n",
       "      <td>4034</td>\n",
       "      <td>TCP</td>\n",
       "      <td>1.1.217.211</td>\n",
       "      <td>20500</td>\n",
       "      <td>Mozilla Firefox</td>\n",
       "      <td>21</td>\n",
       "      <td>Male</td>\n",
       "      <td>AR</td>\n",
       "      <td>Normal</td>\n",
       "      <td>English</td>\n",
       "      <td>731.94</td>\n",
       "      <td>No</td>\n",
       "      <td>0</td>\n",
       "      <td>Debit Card</td>\n",
       "    </tr>\n",
       "    <tr>\n",
       "      <th>2</th>\n",
       "      <td>2017-03-14 17:43:26.135</td>\n",
       "      <td>1525</td>\n",
       "      <td>TCP</td>\n",
       "      <td>1.115.198.107</td>\n",
       "      <td>90100</td>\n",
       "      <td>Mozilla Firefox</td>\n",
       "      <td>20</td>\n",
       "      <td>Male</td>\n",
       "      <td>PL</td>\n",
       "      <td>Normal</td>\n",
       "      <td>English</td>\n",
       "      <td>14.62</td>\n",
       "      <td>No</td>\n",
       "      <td>0</td>\n",
       "      <td>Cash</td>\n",
       "    </tr>\n",
       "    <tr>\n",
       "      <th>3</th>\n",
       "      <td>2017-03-14 17:43:26.135</td>\n",
       "      <td>4572</td>\n",
       "      <td>TCP</td>\n",
       "      <td>1.121.152.143</td>\n",
       "      <td>100300</td>\n",
       "      <td>Mozilla Firefox</td>\n",
       "      <td>66</td>\n",
       "      <td>Female</td>\n",
       "      <td>IN</td>\n",
       "      <td>Normal</td>\n",
       "      <td>Spanish</td>\n",
       "      <td>9.575.775</td>\n",
       "      <td>No</td>\n",
       "      <td>0</td>\n",
       "      <td>Credit Card</td>\n",
       "    </tr>\n",
       "    <tr>\n",
       "      <th>4</th>\n",
       "      <td>2017-03-14 18:17:09.005</td>\n",
       "      <td>3652</td>\n",
       "      <td>TCP</td>\n",
       "      <td>1.123.135.213</td>\n",
       "      <td>270200</td>\n",
       "      <td>Mozilla Firefox</td>\n",
       "      <td>53</td>\n",
       "      <td>Female</td>\n",
       "      <td>KR</td>\n",
       "      <td>Normal</td>\n",
       "      <td>Spanish</td>\n",
       "      <td>22.368</td>\n",
       "      <td>No</td>\n",
       "      <td>0</td>\n",
       "      <td>Cash</td>\n",
       "    </tr>\n",
       "  </tbody>\n",
       "</table>\n",
       "</div>"
      ],
      "text/plain": [
       "             accessed_date  duration_(secs) network_protocol             ip  \\\n",
       "0  2017-03-14 17:43:57.172             2533              TCP   1.10.195.126   \n",
       "1  2017-03-14 17:43:57.172             4034              TCP    1.1.217.211   \n",
       "2  2017-03-14 17:43:26.135             1525              TCP  1.115.198.107   \n",
       "3  2017-03-14 17:43:26.135             4572              TCP  1.121.152.143   \n",
       "4  2017-03-14 18:17:09.005             3652              TCP  1.123.135.213   \n",
       "\n",
       "    bytes    accessed_Ffom age  gender country membership language      sales  \\\n",
       "0   20100           Chrome  28  Female      CA     Normal  English     261.96   \n",
       "1   20500  Mozilla Firefox  21    Male      AR     Normal  English     731.94   \n",
       "2   90100  Mozilla Firefox  20    Male      PL     Normal  English      14.62   \n",
       "3  100300  Mozilla Firefox  66  Female      IN     Normal  Spanish  9.575.775   \n",
       "4  270200  Mozilla Firefox  53  Female      KR     Normal  Spanish     22.368   \n",
       "\n",
       "  returned returned_amount   pay_method  \n",
       "0       No               0  Credit Card  \n",
       "1       No               0   Debit Card  \n",
       "2       No               0         Cash  \n",
       "3       No               0  Credit Card  \n",
       "4       No               0         Cash  "
      ]
     },
     "execution_count": 2,
     "metadata": {},
     "output_type": "execute_result"
    }
   ],
   "source": [
    "#read\n",
    "df = pd.read_csv(\"E-commerce Website Logs new.csv\")\n",
    "df.head()"
   ]
  },
  {
   "cell_type": "markdown",
   "metadata": {},
   "source": [
    "### Data Pre-processing"
   ]
  },
  {
   "cell_type": "markdown",
   "metadata": {},
   "source": [
    "First, we went into the dataset and understood what each of the columns could contribute to our buisness problem. After thoroughly looking thorugh our options, we decided to drop 'network_protocol', 'ip', 'bytes', 'sales', and 'returned_amount'. The column 'network_protocol' didn't seem like a feature that would provide any useful information to our buisness problem as it does not give insght to any kind of marketing strategy or promotions. The column 'ip' only give a unique value for each data point and that would not be very useful for a model. The column 'bytes' was not defined when we were researching our dataset, thus we were not sure what the values represented whether it be the amount of bytes the customer was using when accessing the website or when purchasing the product, etc. so we deemed it so to remove this column as well. The columns 'sales' and 'returned_amount' are types of target variables that we had the choice of using, but decided against it. Since these columns are directly related to our target variable, wherein a 0 in sales can easily predict that the item was returned and a 0 in returned amount would predict the item is not returned, it would not provide our mode with useful information, thus we removed them."
   ]
  },
  {
   "cell_type": "code",
   "execution_count": 3,
   "metadata": {},
   "outputs": [
    {
     "data": {
      "text/html": [
       "<div>\n",
       "<style scoped>\n",
       "    .dataframe tbody tr th:only-of-type {\n",
       "        vertical-align: middle;\n",
       "    }\n",
       "\n",
       "    .dataframe tbody tr th {\n",
       "        vertical-align: top;\n",
       "    }\n",
       "\n",
       "    .dataframe thead th {\n",
       "        text-align: right;\n",
       "    }\n",
       "</style>\n",
       "<table border=\"1\" class=\"dataframe\">\n",
       "  <thead>\n",
       "    <tr style=\"text-align: right;\">\n",
       "      <th></th>\n",
       "      <th>accessed_date</th>\n",
       "      <th>duration_(secs)</th>\n",
       "      <th>accessed_Ffom</th>\n",
       "      <th>age</th>\n",
       "      <th>gender</th>\n",
       "      <th>country</th>\n",
       "      <th>membership</th>\n",
       "      <th>language</th>\n",
       "      <th>returned</th>\n",
       "      <th>pay_method</th>\n",
       "    </tr>\n",
       "  </thead>\n",
       "  <tbody>\n",
       "    <tr>\n",
       "      <th>0</th>\n",
       "      <td>2017-03-14 17:43:57.172</td>\n",
       "      <td>2533</td>\n",
       "      <td>Chrome</td>\n",
       "      <td>28</td>\n",
       "      <td>Female</td>\n",
       "      <td>CA</td>\n",
       "      <td>Normal</td>\n",
       "      <td>English</td>\n",
       "      <td>No</td>\n",
       "      <td>Credit Card</td>\n",
       "    </tr>\n",
       "    <tr>\n",
       "      <th>1</th>\n",
       "      <td>2017-03-14 17:43:57.172</td>\n",
       "      <td>4034</td>\n",
       "      <td>Mozilla Firefox</td>\n",
       "      <td>21</td>\n",
       "      <td>Male</td>\n",
       "      <td>AR</td>\n",
       "      <td>Normal</td>\n",
       "      <td>English</td>\n",
       "      <td>No</td>\n",
       "      <td>Debit Card</td>\n",
       "    </tr>\n",
       "    <tr>\n",
       "      <th>2</th>\n",
       "      <td>2017-03-14 17:43:26.135</td>\n",
       "      <td>1525</td>\n",
       "      <td>Mozilla Firefox</td>\n",
       "      <td>20</td>\n",
       "      <td>Male</td>\n",
       "      <td>PL</td>\n",
       "      <td>Normal</td>\n",
       "      <td>English</td>\n",
       "      <td>No</td>\n",
       "      <td>Cash</td>\n",
       "    </tr>\n",
       "    <tr>\n",
       "      <th>3</th>\n",
       "      <td>2017-03-14 17:43:26.135</td>\n",
       "      <td>4572</td>\n",
       "      <td>Mozilla Firefox</td>\n",
       "      <td>66</td>\n",
       "      <td>Female</td>\n",
       "      <td>IN</td>\n",
       "      <td>Normal</td>\n",
       "      <td>Spanish</td>\n",
       "      <td>No</td>\n",
       "      <td>Credit Card</td>\n",
       "    </tr>\n",
       "    <tr>\n",
       "      <th>4</th>\n",
       "      <td>2017-03-14 18:17:09.005</td>\n",
       "      <td>3652</td>\n",
       "      <td>Mozilla Firefox</td>\n",
       "      <td>53</td>\n",
       "      <td>Female</td>\n",
       "      <td>KR</td>\n",
       "      <td>Normal</td>\n",
       "      <td>Spanish</td>\n",
       "      <td>No</td>\n",
       "      <td>Cash</td>\n",
       "    </tr>\n",
       "  </tbody>\n",
       "</table>\n",
       "</div>"
      ],
      "text/plain": [
       "             accessed_date  duration_(secs)    accessed_Ffom age  gender  \\\n",
       "0  2017-03-14 17:43:57.172             2533           Chrome  28  Female   \n",
       "1  2017-03-14 17:43:57.172             4034  Mozilla Firefox  21    Male   \n",
       "2  2017-03-14 17:43:26.135             1525  Mozilla Firefox  20    Male   \n",
       "3  2017-03-14 17:43:26.135             4572  Mozilla Firefox  66  Female   \n",
       "4  2017-03-14 18:17:09.005             3652  Mozilla Firefox  53  Female   \n",
       "\n",
       "  country membership language returned   pay_method  \n",
       "0      CA     Normal  English       No  Credit Card  \n",
       "1      AR     Normal  English       No   Debit Card  \n",
       "2      PL     Normal  English       No         Cash  \n",
       "3      IN     Normal  Spanish       No  Credit Card  \n",
       "4      KR     Normal  Spanish       No         Cash  "
      ]
     },
     "execution_count": 3,
     "metadata": {},
     "output_type": "execute_result"
    }
   ],
   "source": [
    "#start prep\n",
    "df.drop(['network_protocol', 'ip', 'bytes', 'sales', 'returned_amount'], axis=1, inplace=True)\n",
    "df.head()"
   ]
  },
  {
   "cell_type": "code",
   "execution_count": 17,
   "metadata": {},
   "outputs": [
    {
     "name": "stdout",
     "output_type": "stream",
     "text": [
      "<class 'pandas.core.frame.DataFrame'>\n",
      "RangeIndex: 172838 entries, 0 to 172837\n",
      "Data columns (total 10 columns):\n",
      " #   Column           Non-Null Count   Dtype \n",
      "---  ------           --------------   ----- \n",
      " 0   accessed_date    172838 non-null  object\n",
      " 1   duration_(secs)  172838 non-null  int64 \n",
      " 2   accessed_Ffom    172838 non-null  object\n",
      " 3   age              172838 non-null  object\n",
      " 4   gender           172838 non-null  object\n",
      " 5   country          172838 non-null  object\n",
      " 6   membership       172838 non-null  object\n",
      " 7   language         172838 non-null  object\n",
      " 8   returned         172838 non-null  object\n",
      " 9   pay_method       172838 non-null  object\n",
      "dtypes: int64(1), object(9)\n",
      "memory usage: 13.2+ MB\n"
     ]
    }
   ],
   "source": [
    "df.info()"
   ]
  },
  {
   "cell_type": "markdown",
   "metadata": {},
   "source": [
    "We can see that there are no null values detected from our initial search of finding them. We wanted to make sure that there were no place holders within each of the columns."
   ]
  },
  {
   "cell_type": "markdown",
   "metadata": {},
   "source": [
    "##### 1. Age and Gender column\n",
    "\n",
    "When looking into the age column, we saw that there were placeholder values that represented null items. For some reason there were 2 kinds of 0s and then dashed lines. However, almost 50% of our data consists of these placeholder values which makes it difficult on deciding what to do with these values. We decided on just removing the those values as it was a way not to skew the data because replacing the mean, median, or mode in those values would just make an our model more biased to that value in the age feature. Additionally, since we still have a decent amount of data to use even after removing those data points, we will tset with the data that was left over and if the metrics point to having a better model with more data point then we may return to these data points and add them in. Furthermore, when researching with this column, we also learned that any unknown genders/ place holder values for the gender column was removed whenever we removed all the unknown ages. Since we are working with the data set without the unknown ages, we can skip identifying any unknown values in the gender column."
   ]
  },
  {
   "cell_type": "code",
   "execution_count": 20,
   "metadata": {
    "scrolled": true
   },
   "outputs": [
    {
     "data": {
      "text/plain": [
       "age\n",
       "0     0.241648\n",
       "0     0.182917\n",
       "--    0.085300\n",
       "37    0.010247\n",
       "22    0.010108\n",
       "43    0.009905\n",
       "51    0.009882\n",
       "64    0.009876\n",
       "24    0.009836\n",
       "30    0.009824\n",
       "40    0.009784\n",
       "48    0.009732\n",
       "61    0.009685\n",
       "39    0.009628\n",
       "27    0.009610\n",
       "52    0.009604\n",
       "38    0.009570\n",
       "19    0.009564\n",
       "28    0.009552\n",
       "42    0.009518\n",
       "41    0.009512\n",
       "56    0.009494\n",
       "21    0.009442\n",
       "67    0.009442\n",
       "26    0.009425\n",
       "57    0.009425\n",
       "62    0.009419\n",
       "36    0.009408\n",
       "68    0.009396\n",
       "46    0.009396\n",
       "33    0.009379\n",
       "53    0.009350\n",
       "69    0.009327\n",
       "58    0.009321\n",
       "25    0.009309\n",
       "29    0.009298\n",
       "50    0.009292\n",
       "32    0.009286\n",
       "34    0.009275\n",
       "31    0.009263\n",
       "49    0.009257\n",
       "66    0.009251\n",
       "59    0.009251\n",
       "47    0.009234\n",
       "23    0.009217\n",
       "44    0.009217\n",
       "63    0.009153\n",
       "60    0.009124\n",
       "20    0.009072\n",
       "54    0.009066\n",
       "45    0.009037\n",
       "35    0.008985\n",
       "65    0.008980\n",
       "55    0.008968\n",
       "18    0.008939\n",
       "Name: proportion, dtype: float64"
      ]
     },
     "execution_count": 20,
     "metadata": {},
     "output_type": "execute_result"
    }
   ],
   "source": [
    "df['age'].value_counts(normalize=True)"
   ]
  },
  {
   "cell_type": "code",
   "execution_count": 4,
   "metadata": {},
   "outputs": [],
   "source": [
    "#remove non-integer values\n",
    "df = df[df['age']!=\"--\"] "
   ]
  },
  {
   "cell_type": "code",
   "execution_count": 5,
   "metadata": {},
   "outputs": [],
   "source": [
    "#turn age into integer\n",
    "df['age'] = df['age'].astype('int64')"
   ]
  },
  {
   "cell_type": "code",
   "execution_count": 23,
   "metadata": {},
   "outputs": [
    {
     "name": "stdout",
     "output_type": "stream",
     "text": [
      "<class 'pandas.core.frame.DataFrame'>\n",
      "Index: 158095 entries, 0 to 172837\n",
      "Data columns (total 10 columns):\n",
      " #   Column           Non-Null Count   Dtype \n",
      "---  ------           --------------   ----- \n",
      " 0   accessed_date    158095 non-null  object\n",
      " 1   duration_(secs)  158095 non-null  int64 \n",
      " 2   accessed_Ffom    158095 non-null  object\n",
      " 3   age              158095 non-null  int64 \n",
      " 4   gender           158095 non-null  object\n",
      " 5   country          158095 non-null  object\n",
      " 6   membership       158095 non-null  object\n",
      " 7   language         158095 non-null  object\n",
      " 8   returned         158095 non-null  object\n",
      " 9   pay_method       158095 non-null  object\n",
      "dtypes: int64(2), object(8)\n",
      "memory usage: 13.3+ MB\n"
     ]
    }
   ],
   "source": [
    "df.info()"
   ]
  },
  {
   "cell_type": "code",
   "execution_count": 24,
   "metadata": {
    "scrolled": true
   },
   "outputs": [
    {
     "data": {
      "text/plain": [
       "age\n",
       "0     0.464158\n",
       "37    0.011202\n",
       "22    0.011050\n",
       "43    0.010829\n",
       "51    0.010804\n",
       "64    0.010797\n",
       "24    0.010753\n",
       "30    0.010740\n",
       "40    0.010696\n",
       "48    0.010639\n",
       "61    0.010589\n",
       "39    0.010525\n",
       "27    0.010506\n",
       "52    0.010500\n",
       "38    0.010462\n",
       "19    0.010456\n",
       "28    0.010443\n",
       "42    0.010405\n",
       "41    0.010399\n",
       "56    0.010380\n",
       "21    0.010323\n",
       "67    0.010323\n",
       "26    0.010304\n",
       "57    0.010304\n",
       "62    0.010298\n",
       "36    0.010285\n",
       "68    0.010272\n",
       "46    0.010272\n",
       "33    0.010253\n",
       "53    0.010222\n",
       "69    0.010196\n",
       "58    0.010190\n",
       "25    0.010177\n",
       "29    0.010165\n",
       "50    0.010158\n",
       "32    0.010152\n",
       "34    0.010139\n",
       "31    0.010127\n",
       "49    0.010120\n",
       "59    0.010114\n",
       "66    0.010114\n",
       "47    0.010095\n",
       "23    0.010076\n",
       "44    0.010076\n",
       "63    0.010007\n",
       "60    0.009975\n",
       "20    0.009918\n",
       "54    0.009912\n",
       "45    0.009880\n",
       "35    0.009823\n",
       "65    0.009817\n",
       "55    0.009804\n",
       "18    0.009773\n",
       "Name: proportion, dtype: float64"
      ]
     },
     "execution_count": 24,
     "metadata": {},
     "output_type": "execute_result"
    }
   ],
   "source": [
    "df['age'].value_counts(normalize=True)"
   ]
  },
  {
   "cell_type": "code",
   "execution_count": 25,
   "metadata": {},
   "outputs": [
    {
     "data": {
      "text/plain": [
       "gender\n",
       "Female     93903\n",
       "Male       63049\n",
       "Unknown     1143\n",
       "Name: count, dtype: int64"
      ]
     },
     "execution_count": 25,
     "metadata": {},
     "output_type": "execute_result"
    }
   ],
   "source": [
    "df['gender'].value_counts()"
   ]
  },
  {
   "cell_type": "code",
   "execution_count": 6,
   "metadata": {},
   "outputs": [],
   "source": [
    "#remove placeholders\n",
    "df = df[df['age']!=0]"
   ]
  },
  {
   "cell_type": "code",
   "execution_count": 27,
   "metadata": {
    "scrolled": true
   },
   "outputs": [
    {
     "data": {
      "text/plain": [
       "age\n",
       "37    1771\n",
       "22    1747\n",
       "43    1712\n",
       "51    1708\n",
       "64    1707\n",
       "24    1700\n",
       "30    1698\n",
       "40    1691\n",
       "48    1682\n",
       "61    1674\n",
       "39    1664\n",
       "27    1661\n",
       "52    1660\n",
       "38    1654\n",
       "19    1653\n",
       "28    1651\n",
       "42    1645\n",
       "41    1644\n",
       "56    1641\n",
       "67    1632\n",
       "21    1632\n",
       "57    1629\n",
       "26    1629\n",
       "62    1628\n",
       "36    1626\n",
       "46    1624\n",
       "68    1624\n",
       "33    1621\n",
       "53    1616\n",
       "69    1612\n",
       "58    1611\n",
       "25    1609\n",
       "29    1607\n",
       "50    1606\n",
       "32    1605\n",
       "34    1603\n",
       "31    1601\n",
       "49    1600\n",
       "66    1599\n",
       "59    1599\n",
       "47    1596\n",
       "44    1593\n",
       "23    1593\n",
       "63    1582\n",
       "60    1577\n",
       "20    1568\n",
       "54    1567\n",
       "45    1562\n",
       "35    1553\n",
       "65    1552\n",
       "55    1550\n",
       "18    1545\n",
       "Name: count, dtype: int64"
      ]
     },
     "execution_count": 27,
     "metadata": {},
     "output_type": "execute_result"
    }
   ],
   "source": [
    "df['age'].value_counts()"
   ]
  },
  {
   "cell_type": "code",
   "execution_count": 28,
   "metadata": {},
   "outputs": [
    {
     "data": {
      "text/plain": [
       "gender\n",
       "Female    50682\n",
       "Male      34032\n",
       "Name: count, dtype: int64"
      ]
     },
     "execution_count": 28,
     "metadata": {},
     "output_type": "execute_result"
    }
   ],
   "source": [
    "df['gender'].value_counts()"
   ]
  },
  {
   "cell_type": "markdown",
   "metadata": {},
   "source": [
    "##### 2. Payment Method column\n",
    "\n",
    "No need to deal with null, duplicates, or outliers"
   ]
  },
  {
   "cell_type": "code",
   "execution_count": 6,
   "metadata": {},
   "outputs": [
    {
     "data": {
      "text/plain": [
       "pay_method\n",
       "Cash           72670\n",
       "Credit Card    53031\n",
       "Debit Card     27497\n",
       "Others         19640\n",
       "Name: count, dtype: int64"
      ]
     },
     "execution_count": 6,
     "metadata": {},
     "output_type": "execute_result"
    }
   ],
   "source": [
    "df['pay_method'].value_counts()"
   ]
  },
  {
   "cell_type": "markdown",
   "metadata": {},
   "source": [
    "##### 3. Membership Column\n",
    "\n",
    "No need to deal with null, duplicates, or outliers"
   ]
  },
  {
   "cell_type": "code",
   "execution_count": 8,
   "metadata": {},
   "outputs": [
    {
     "data": {
      "text/plain": [
       "membership\n",
       "Premium          107345\n",
       "Normal            49607\n",
       "Not Logged In     15886\n",
       "Name: count, dtype: int64"
      ]
     },
     "execution_count": 8,
     "metadata": {},
     "output_type": "execute_result"
    }
   ],
   "source": [
    "df['membership'].value_counts()"
   ]
  },
  {
   "cell_type": "markdown",
   "metadata": {},
   "source": [
    "##### 4. Language column\n",
    "\n",
    "There are duplicates that we need to categorize together. There are no null values to address or any outliers."
   ]
  },
  {
   "cell_type": "code",
   "execution_count": 9,
   "metadata": {},
   "outputs": [
    {
     "data": {
      "text/plain": [
       "language\n",
       "English       117437\n",
       "Spanish        12339\n",
       "Russian        12008\n",
       "Chinese        11112\n",
       "French          6492\n",
       "Italian         4425\n",
       "German          2366\n",
       "Japanese        1358\n",
       "Thai             825\n",
       "persian          806\n",
       "italian          583\n",
       "Dutch            552\n",
       "Portuguese       405\n",
       "Arabic           390\n",
       "mongolian        248\n",
       "polish           243\n",
       "malayalam        203\n",
       "nepali           146\n",
       "swahili          138\n",
       "swedish          136\n",
       "norwegian        115\n",
       "Slovak           100\n",
       "slovene           90\n",
       "urdu              82\n",
       "romanian          66\n",
       "malay             55\n",
       "macedonian        43\n",
       "tegulu            26\n",
       "serbian           26\n",
       "marathi           23\n",
       "Name: count, dtype: int64"
      ]
     },
     "execution_count": 9,
     "metadata": {},
     "output_type": "execute_result"
    }
   ],
   "source": [
    "df['language'].value_counts()"
   ]
  },
  {
   "cell_type": "markdown",
   "metadata": {},
   "source": [
    "##### 5. Accessed_from column\n",
    "\n",
    "There are duplicates that we need to categorize together. There are no null values to address or any outliers."
   ]
  },
  {
   "cell_type": "code",
   "execution_count": 10,
   "metadata": {},
   "outputs": [
    {
     "data": {
      "text/plain": [
       "accessed_Ffom\n",
       "Android App        38216\n",
       "Chrome             28254\n",
       "Mozilla Firefox    26592\n",
       "Others             26592\n",
       "IOS App            21606\n",
       "Safari             16467\n",
       "Microsoft Edge     14958\n",
       "SafFRi               153\n",
       "Name: count, dtype: int64"
      ]
     },
     "execution_count": 10,
     "metadata": {},
     "output_type": "execute_result"
    }
   ],
   "source": [
    "df['accessed_Ffom'].value_counts()"
   ]
  },
  {
   "cell_type": "markdown",
   "metadata": {},
   "source": [
    "##### 6. Country column\n",
    "\n",
    "No need to deal with null, duplicates, or outliers"
   ]
  },
  {
   "cell_type": "code",
   "execution_count": 11,
   "metadata": {},
   "outputs": [
    {
     "data": {
      "text/plain": [
       "country\n",
       "IT    34438\n",
       "US    30408\n",
       "CA    17756\n",
       "CN    10177\n",
       "JP     9962\n",
       "RU     9532\n",
       "CH     8237\n",
       "IN     8011\n",
       "PL     6710\n",
       "GB     4984\n",
       "AT     4765\n",
       "AU     4553\n",
       "SE     4491\n",
       "NO     3681\n",
       "AR     3212\n",
       "KR     2169\n",
       "DE     2167\n",
       "PR     1731\n",
       "CO     1514\n",
       "PE     1085\n",
       "MX     1083\n",
       "ZA      765\n",
       "FI      651\n",
       "DK      217\n",
       "AE      217\n",
       "IE      217\n",
       "FR      105\n",
       "Name: count, dtype: int64"
      ]
     },
     "execution_count": 11,
     "metadata": {},
     "output_type": "execute_result"
    }
   ],
   "source": [
    "df['country'].value_counts()"
   ]
  },
  {
   "cell_type": "markdown",
   "metadata": {},
   "source": [
    "##### 7. Target variable\n",
    "\n",
    "The thing that needs to be addressed with the target variable is the idea of an unbalanced data set. There is only about 15% of the data that contains customers that returned an item. Therefore, we need to test with different sampling techniques (under/over) to gte the dataset more balanced to have a better outcome with the metrics of modeling."
   ]
  },
  {
   "cell_type": "code",
   "execution_count": 29,
   "metadata": {},
   "outputs": [
    {
     "data": {
      "text/plain": [
       "returned\n",
       "No     0.853944\n",
       "Yes    0.146056\n",
       "Name: proportion, dtype: float64"
      ]
     },
     "execution_count": 29,
     "metadata": {},
     "output_type": "execute_result"
    }
   ],
   "source": [
    "df['returned'].value_counts(normalize=True)"
   ]
  },
  {
   "cell_type": "code",
   "execution_count": 7,
   "metadata": {},
   "outputs": [
    {
     "name": "stdout",
     "output_type": "stream",
     "text": [
      "Updated accessed_Ffom:\n",
      "accessed_Ffom\n",
      "Android App        18768\n",
      "Chrome             13818\n",
      "Mozilla Firefox    13015\n",
      "Others             13007\n",
      "IOS App            10627\n",
      "Safari              8154\n",
      "Microsoft Edge      7325\n",
      "Name: count, dtype: int64\n"
     ]
    }
   ],
   "source": [
    "# Combine rows with 'Safari' and 'SafFRi'\n",
    "df.loc[df['accessed_Ffom'] == 'SafFRi', 'accessed_Ffom'] = 'Safari'\n",
    "\n",
    "# Check the updated 'accessed_Ffom' column\n",
    "print(\"Updated accessed_Ffom:\")\n",
    "print(df['accessed_Ffom'].value_counts())"
   ]
  },
  {
   "cell_type": "code",
   "execution_count": 8,
   "metadata": {},
   "outputs": [
    {
     "name": "stdout",
     "output_type": "stream",
     "text": [
      "language\n",
      "English       49939\n",
      "Chinese       10172\n",
      "Spanish        7124\n",
      "Russian        6013\n",
      "French         3972\n",
      "Italian        3643\n",
      "German          955\n",
      "Japanese        599\n",
      "Persian         400\n",
      "Thai            361\n",
      "Dutch           288\n",
      "Portuguese      199\n",
      "Arabic          186\n",
      "Polish          123\n",
      "Mongolian       114\n",
      "Malayalam        95\n",
      "Swahili          72\n",
      "Swedish          71\n",
      "Nepali           71\n",
      "Norwegian        58\n",
      "Slovak           48\n",
      "Slovene          44\n",
      "Urdu             39\n",
      "Romanian         36\n",
      "Malay            30\n",
      "Macedonian       24\n",
      "Serbian          14\n",
      "Tegulu           13\n",
      "Marathi          11\n",
      "Name: count, dtype: int64\n"
     ]
    }
   ],
   "source": [
    "# Capitalizing the first letter of each word\n",
    "df['language'] = df['language'].str.split().str[0].str.capitalize()\n",
    "print(df['language'].value_counts())"
   ]
  },
  {
   "cell_type": "code",
   "execution_count": null,
   "metadata": {},
   "outputs": [],
   "source": []
  }
 ],
 "metadata": {
  "kernelspec": {
   "display_name": "base",
   "language": "python",
   "name": "python3"
  },
  "language_info": {
   "codemirror_mode": {
    "name": "ipython",
    "version": 3
   },
   "file_extension": ".py",
   "mimetype": "text/x-python",
   "name": "python",
   "nbconvert_exporter": "python",
   "pygments_lexer": "ipython3",
   "version": "3.11.5"
  }
 },
 "nbformat": 4,
 "nbformat_minor": 4
}
